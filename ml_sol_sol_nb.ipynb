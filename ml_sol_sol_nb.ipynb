{
 "cells": [
  {
   "cell_type": "markdown",
   "id": "7babc0f3",
   "metadata": {},
   "source": [
    "# Machine learning for solid solutions (Li2TiS3)"
   ]
  },
  {
   "cell_type": "markdown",
   "id": "401c7464",
   "metadata": {},
   "source": [
    "This notebook is divided into these sections:\n",
    "- [LTS dataset](#lts)\n",
    "    - write CRYSTAL input files\n",
    "    - read CRYSTAL output files\n",
    "- [Descriptors](#descriptors)\n",
    "    - [Coulomb Matrix (CM)](#CM)\n",
    "    - Smooth Overlap of Atomic Positions (SOAP)\n",
    "    - Many Body Tensor Representation (MBTR)\n",
    "    - Ewald Sum Matrix\n",
    "    - Sine Matrix\n",
    "    \n",
    "- [Machine learning](#ml)\n",
    "    - linear regression\n",
    "- [Protocol](#protocol)\n",
    "    - [simmetry analysis](#symmetry)"
   ]
  },
  {
   "cell_type": "code",
   "execution_count": 1,
   "id": "b38f9b85",
   "metadata": {},
   "outputs": [],
   "source": [
    "import os\n",
    "import copy\n",
    "import json\n",
    "import itertools\n",
    "import shutil as sh\n",
    "from pathlib import Path\n",
    "import numpy as np\n",
    "import pandas as pd\n",
    "from datetime import datetime\n",
    "\n",
    "from CRYSTALpytools.crystal_io import Crystal_output, Crystal_input, Crystal_density, Crystal_gui\n",
    "from CRYSTALpytools.convert import cry_gui2pmg, cry_out2pmg\n",
    "from CRYSTALpytools.utils import view_pmg\n",
    "\n",
    "from pymatgen.io.ase import AseAtomsAdaptor\n",
    "from pymatgen.io.cif import CifWriter\n",
    "from pymatgen.symmetry.analyzer import SpacegroupAnalyzer, PointGroupAnalyzer\n",
    "\n",
    "from ase.visualize import view\n",
    "\n",
    "#from dscribe.descriptors import CoulombMatrix\n",
    "\n",
    "from sklearn.neighbors import NearestNeighbors, KNeighborsRegressor\n",
    "from sklearn.metrics import mean_squared_error, r2_score, max_error\n",
    "from sklearn.cluster import KMeans\n",
    "\n",
    "import matplotlib.pyplot as plt\n",
    "plt.rcParams[\"figure.figsize\"] = (15,15)"
   ]
  },
  {
   "cell_type": "markdown",
   "id": "f77a340f",
   "metadata": {},
   "source": [
    "# <a id='lts'>LTS dataset - pymatgen</a>"
   ]
  },
  {
   "cell_type": "code",
   "execution_count": null,
   "id": "069a2170",
   "metadata": {},
   "outputs": [],
   "source": []
  },
  {
   "cell_type": "code",
   "execution_count": 2,
   "id": "cd079fdd",
   "metadata": {},
   "outputs": [],
   "source": [
    "# New atom\n",
    "new_atom = 'Li'\n",
    "\n",
    "# Read the confcount output\n",
    "cry_output = Crystal_output().read_cry_output('data/crystal/lts/lts_confcount.out')\n",
    "cry_output.get_config_analysis()\n",
    "\n",
    "# Read the initial structure (before substitution)\n",
    "original_structure_gui =  Crystal_gui().read_cry_gui('data/crystal/lts/lts_confcount.gui')\n",
    "original_structure = cry_gui2pmg(original_structure_gui)\n",
    "\n",
    "structures_lts = []\n",
    "li_atoms = []\n",
    "ti_atoms = []\n",
    "for j,substitutions in enumerate(cry_output.atom_type2):\n",
    "    new_structure = original_structure.copy()\n",
    "    for i in substitutions:\n",
    "        new_structure.replace(i-1,new_atom)\n",
    "    structures_lts.append(new_structure)\n",
    "    ti_atoms.append((np.array(cry_output.atom_type1[j])-1).tolist())\n",
    "    li_atoms.append((np.array(cry_output.atom_type2[j])-1).tolist())\n",
    "\n",
    "structures = copy.deepcopy(structures_lts)"
   ]
  },
  {
   "cell_type": "markdown",
   "id": "f043d754",
   "metadata": {},
   "source": [
    "## Read the energy and band gap"
   ]
  },
  {
   "cell_type": "markdown",
   "id": "560ad0b9",
   "metadata": {},
   "source": [
    "#### Single point"
   ]
  },
  {
   "cell_type": "code",
   "execution_count": 47,
   "id": "c614d9b7",
   "metadata": {},
   "outputs": [
    {
     "name": "stdout",
     "output_type": "stream",
     "text": [
      "EXITING: a .out file needs to be specified\n"
     ]
    },
    {
     "ename": "AssertionError",
     "evalue": "",
     "output_type": "error",
     "traceback": [
      "\u001b[0;31m---------------------------------------------------------------------------\u001b[0m",
      "\u001b[0;31mFileNotFoundError\u001b[0m                         Traceback (most recent call last)",
      "File \u001b[0;32m/opt/anaconda3/envs/MLenv/lib/python3.9/site-packages/CRYSTALpytools/crystal_io.py:264\u001b[0m, in \u001b[0;36mCrystal_output.read_cry_output\u001b[0;34m(self, output_name)\u001b[0m\n\u001b[1;32m    263\u001b[0m     output_name \u001b[38;5;241m=\u001b[39m output_name\u001b[38;5;241m+\u001b[39m\u001b[38;5;124m'\u001b[39m\u001b[38;5;124m.out\u001b[39m\u001b[38;5;124m'\u001b[39m\n\u001b[0;32m--> 264\u001b[0m file \u001b[38;5;241m=\u001b[39m \u001b[38;5;28;43mopen\u001b[39;49m\u001b[43m(\u001b[49m\u001b[43moutput_name\u001b[49m\u001b[43m,\u001b[49m\u001b[43m \u001b[49m\u001b[38;5;124;43m'\u001b[39;49m\u001b[38;5;124;43mr\u001b[39;49m\u001b[38;5;124;43m'\u001b[39;49m\u001b[43m,\u001b[49m\u001b[43m \u001b[49m\u001b[43merrors\u001b[49m\u001b[38;5;241;43m=\u001b[39;49m\u001b[38;5;124;43m'\u001b[39;49m\u001b[38;5;124;43mignore\u001b[39;49m\u001b[38;5;124;43m'\u001b[39;49m\u001b[43m)\u001b[49m\n\u001b[1;32m    265\u001b[0m \u001b[38;5;28mself\u001b[39m\u001b[38;5;241m.\u001b[39mdata \u001b[38;5;241m=\u001b[39m file\u001b[38;5;241m.\u001b[39mreadlines()\n",
      "\u001b[0;31mFileNotFoundError\u001b[0m: [Errno 2] No such file or directory: './data/crystal/lts/sp/output/lts_sp_2.out'",
      "\nDuring handling of the above exception, another exception occurred:\n",
      "\u001b[0;31mSystemExit\u001b[0m                                Traceback (most recent call last)",
      "    \u001b[0;31m[... skipping hidden 1 frame]\u001b[0m\n",
      "Cell \u001b[0;32mIn[47], line 4\u001b[0m\n\u001b[1;32m      3\u001b[0m \u001b[38;5;28;01mfor\u001b[39;00m i \u001b[38;5;129;01min\u001b[39;00m \u001b[38;5;28mrange\u001b[39m(\u001b[38;5;28mlen\u001b[39m(structures)):\n\u001b[0;32m----> 4\u001b[0m     crystal_output \u001b[38;5;241m=\u001b[39m \u001b[43mCrystal_output\u001b[49m\u001b[43m(\u001b[49m\u001b[43m)\u001b[49m\u001b[38;5;241;43m.\u001b[39;49m\u001b[43mread_cry_output\u001b[49m\u001b[43m(\u001b[49m\u001b[38;5;124;43m'\u001b[39;49m\u001b[38;5;124;43m./data/crystal/lts/sp/output/lts_sp_\u001b[39;49m\u001b[38;5;132;43;01m%s\u001b[39;49;00m\u001b[38;5;124;43m.out\u001b[39;49m\u001b[38;5;124;43m'\u001b[39;49m\u001b[38;5;241;43m%\u001b[39;49m\u001b[38;5;28;43mstr\u001b[39;49m\u001b[43m(\u001b[49m\u001b[43mi\u001b[49m\u001b[43m)\u001b[49m\u001b[43m)\u001b[49m\n\u001b[1;32m      5\u001b[0m     \u001b[38;5;28;01mif\u001b[39;00m crystal_output\u001b[38;5;241m.\u001b[39mget_final_energy() \u001b[38;5;241m!=\u001b[39m \u001b[38;5;28;01mNone\u001b[39;00m:\n",
      "File \u001b[0;32m/opt/anaconda3/envs/MLenv/lib/python3.9/site-packages/CRYSTALpytools/crystal_io.py:269\u001b[0m, in \u001b[0;36mCrystal_output.read_cry_output\u001b[0;34m(self, output_name)\u001b[0m\n\u001b[1;32m    268\u001b[0m     \u001b[38;5;28mprint\u001b[39m(\u001b[38;5;124m'\u001b[39m\u001b[38;5;124mEXITING: a .out file needs to be specified\u001b[39m\u001b[38;5;124m'\u001b[39m)\n\u001b[0;32m--> 269\u001b[0m     \u001b[43msys\u001b[49m\u001b[38;5;241;43m.\u001b[39;49m\u001b[43mexit\u001b[49m\u001b[43m(\u001b[49m\u001b[38;5;241;43m1\u001b[39;49m\u001b[43m)\u001b[49m\n\u001b[1;32m    271\u001b[0m \u001b[38;5;66;03m# Check the calculation converged\u001b[39;00m\n",
      "\u001b[0;31mSystemExit\u001b[0m: 1",
      "\nDuring handling of the above exception, another exception occurred:\n",
      "\u001b[0;31mAssertionError\u001b[0m                            Traceback (most recent call last)",
      "    \u001b[0;31m[... skipping hidden 1 frame]\u001b[0m\n",
      "File \u001b[0;32m/opt/anaconda3/envs/MLenv/lib/python3.9/site-packages/IPython/core/interactiveshell.py:2047\u001b[0m, in \u001b[0;36mInteractiveShell.showtraceback\u001b[0;34m(self, exc_tuple, filename, tb_offset, exception_only, running_compiled_code)\u001b[0m\n\u001b[1;32m   2044\u001b[0m \u001b[38;5;28;01mif\u001b[39;00m exception_only:\n\u001b[1;32m   2045\u001b[0m     stb \u001b[38;5;241m=\u001b[39m [\u001b[38;5;124m'\u001b[39m\u001b[38;5;124mAn exception has occurred, use \u001b[39m\u001b[38;5;124m%\u001b[39m\u001b[38;5;124mtb to see \u001b[39m\u001b[38;5;124m'\u001b[39m\n\u001b[1;32m   2046\u001b[0m            \u001b[38;5;124m'\u001b[39m\u001b[38;5;124mthe full traceback.\u001b[39m\u001b[38;5;130;01m\\n\u001b[39;00m\u001b[38;5;124m'\u001b[39m]\n\u001b[0;32m-> 2047\u001b[0m     stb\u001b[38;5;241m.\u001b[39mextend(\u001b[38;5;28;43mself\u001b[39;49m\u001b[38;5;241;43m.\u001b[39;49m\u001b[43mInteractiveTB\u001b[49m\u001b[38;5;241;43m.\u001b[39;49m\u001b[43mget_exception_only\u001b[49m\u001b[43m(\u001b[49m\u001b[43metype\u001b[49m\u001b[43m,\u001b[49m\n\u001b[1;32m   2048\u001b[0m \u001b[43m                                                     \u001b[49m\u001b[43mvalue\u001b[49m\u001b[43m)\u001b[49m)\n\u001b[1;32m   2049\u001b[0m \u001b[38;5;28;01melse\u001b[39;00m:\n\u001b[1;32m   2050\u001b[0m     \u001b[38;5;28;01mtry\u001b[39;00m:\n\u001b[1;32m   2051\u001b[0m         \u001b[38;5;66;03m# Exception classes can customise their traceback - we\u001b[39;00m\n\u001b[1;32m   2052\u001b[0m         \u001b[38;5;66;03m# use this in IPython.parallel for exceptions occurring\u001b[39;00m\n\u001b[1;32m   2053\u001b[0m         \u001b[38;5;66;03m# in the engines. This should return a list of strings.\u001b[39;00m\n",
      "File \u001b[0;32m/opt/anaconda3/envs/MLenv/lib/python3.9/site-packages/IPython/core/ultratb.py:585\u001b[0m, in \u001b[0;36mListTB.get_exception_only\u001b[0;34m(self, etype, value)\u001b[0m\n\u001b[1;32m    577\u001b[0m \u001b[38;5;28;01mdef\u001b[39;00m \u001b[38;5;21mget_exception_only\u001b[39m(\u001b[38;5;28mself\u001b[39m, etype, value):\n\u001b[1;32m    578\u001b[0m     \u001b[38;5;124;03m\"\"\"Only print the exception type and message, without a traceback.\u001b[39;00m\n\u001b[1;32m    579\u001b[0m \n\u001b[1;32m    580\u001b[0m \u001b[38;5;124;03m    Parameters\u001b[39;00m\n\u001b[0;32m   (...)\u001b[0m\n\u001b[1;32m    583\u001b[0m \u001b[38;5;124;03m    value : exception value\u001b[39;00m\n\u001b[1;32m    584\u001b[0m \u001b[38;5;124;03m    \"\"\"\u001b[39;00m\n\u001b[0;32m--> 585\u001b[0m     \u001b[38;5;28;01mreturn\u001b[39;00m \u001b[43mListTB\u001b[49m\u001b[38;5;241;43m.\u001b[39;49m\u001b[43mstructured_traceback\u001b[49m\u001b[43m(\u001b[49m\u001b[38;5;28;43mself\u001b[39;49m\u001b[43m,\u001b[49m\u001b[43m \u001b[49m\u001b[43metype\u001b[49m\u001b[43m,\u001b[49m\u001b[43m \u001b[49m\u001b[43mvalue\u001b[49m\u001b[43m)\u001b[49m\n",
      "File \u001b[0;32m/opt/anaconda3/envs/MLenv/lib/python3.9/site-packages/IPython/core/ultratb.py:452\u001b[0m, in \u001b[0;36mListTB.structured_traceback\u001b[0;34m(self, etype, evalue, etb, tb_offset, context)\u001b[0m\n\u001b[1;32m    449\u001b[0m     chained_exc_ids\u001b[38;5;241m.\u001b[39madd(\u001b[38;5;28mid\u001b[39m(exception[\u001b[38;5;241m1\u001b[39m]))\n\u001b[1;32m    450\u001b[0m     chained_exceptions_tb_offset \u001b[38;5;241m=\u001b[39m \u001b[38;5;241m0\u001b[39m\n\u001b[1;32m    451\u001b[0m     out_list \u001b[38;5;241m=\u001b[39m (\n\u001b[0;32m--> 452\u001b[0m         \u001b[38;5;28;43mself\u001b[39;49m\u001b[38;5;241;43m.\u001b[39;49m\u001b[43mstructured_traceback\u001b[49m\u001b[43m(\u001b[49m\n\u001b[1;32m    453\u001b[0m \u001b[43m            \u001b[49m\u001b[43metype\u001b[49m\u001b[43m,\u001b[49m\u001b[43m \u001b[49m\u001b[43mevalue\u001b[49m\u001b[43m,\u001b[49m\u001b[43m \u001b[49m\u001b[43m(\u001b[49m\u001b[43metb\u001b[49m\u001b[43m,\u001b[49m\u001b[43m \u001b[49m\u001b[43mchained_exc_ids\u001b[49m\u001b[43m)\u001b[49m\u001b[43m,\u001b[49m\n\u001b[1;32m    454\u001b[0m \u001b[43m            \u001b[49m\u001b[43mchained_exceptions_tb_offset\u001b[49m\u001b[43m,\u001b[49m\u001b[43m \u001b[49m\u001b[43mcontext\u001b[49m\u001b[43m)\u001b[49m\n\u001b[1;32m    455\u001b[0m         \u001b[38;5;241m+\u001b[39m chained_exception_message\n\u001b[1;32m    456\u001b[0m         \u001b[38;5;241m+\u001b[39m out_list)\n\u001b[1;32m    458\u001b[0m \u001b[38;5;28;01mreturn\u001b[39;00m out_list\n",
      "File \u001b[0;32m/opt/anaconda3/envs/MLenv/lib/python3.9/site-packages/IPython/core/ultratb.py:1118\u001b[0m, in \u001b[0;36mAutoFormattedTB.structured_traceback\u001b[0;34m(self, etype, value, tb, tb_offset, number_of_lines_of_context)\u001b[0m\n\u001b[1;32m   1116\u001b[0m \u001b[38;5;28;01melse\u001b[39;00m:\n\u001b[1;32m   1117\u001b[0m     \u001b[38;5;28mself\u001b[39m\u001b[38;5;241m.\u001b[39mtb \u001b[38;5;241m=\u001b[39m tb\n\u001b[0;32m-> 1118\u001b[0m \u001b[38;5;28;01mreturn\u001b[39;00m \u001b[43mFormattedTB\u001b[49m\u001b[38;5;241;43m.\u001b[39;49m\u001b[43mstructured_traceback\u001b[49m\u001b[43m(\u001b[49m\n\u001b[1;32m   1119\u001b[0m \u001b[43m    \u001b[49m\u001b[38;5;28;43mself\u001b[39;49m\u001b[43m,\u001b[49m\u001b[43m \u001b[49m\u001b[43metype\u001b[49m\u001b[43m,\u001b[49m\u001b[43m \u001b[49m\u001b[43mvalue\u001b[49m\u001b[43m,\u001b[49m\u001b[43m \u001b[49m\u001b[43mtb\u001b[49m\u001b[43m,\u001b[49m\u001b[43m \u001b[49m\u001b[43mtb_offset\u001b[49m\u001b[43m,\u001b[49m\u001b[43m \u001b[49m\u001b[43mnumber_of_lines_of_context\u001b[49m\u001b[43m)\u001b[49m\n",
      "File \u001b[0;32m/opt/anaconda3/envs/MLenv/lib/python3.9/site-packages/IPython/core/ultratb.py:1012\u001b[0m, in \u001b[0;36mFormattedTB.structured_traceback\u001b[0;34m(self, etype, value, tb, tb_offset, number_of_lines_of_context)\u001b[0m\n\u001b[1;32m   1009\u001b[0m mode \u001b[38;5;241m=\u001b[39m \u001b[38;5;28mself\u001b[39m\u001b[38;5;241m.\u001b[39mmode\n\u001b[1;32m   1010\u001b[0m \u001b[38;5;28;01mif\u001b[39;00m mode \u001b[38;5;129;01min\u001b[39;00m \u001b[38;5;28mself\u001b[39m\u001b[38;5;241m.\u001b[39mverbose_modes:\n\u001b[1;32m   1011\u001b[0m     \u001b[38;5;66;03m# Verbose modes need a full traceback\u001b[39;00m\n\u001b[0;32m-> 1012\u001b[0m     \u001b[38;5;28;01mreturn\u001b[39;00m \u001b[43mVerboseTB\u001b[49m\u001b[38;5;241;43m.\u001b[39;49m\u001b[43mstructured_traceback\u001b[49m\u001b[43m(\u001b[49m\n\u001b[1;32m   1013\u001b[0m \u001b[43m        \u001b[49m\u001b[38;5;28;43mself\u001b[39;49m\u001b[43m,\u001b[49m\u001b[43m \u001b[49m\u001b[43metype\u001b[49m\u001b[43m,\u001b[49m\u001b[43m \u001b[49m\u001b[43mvalue\u001b[49m\u001b[43m,\u001b[49m\u001b[43m \u001b[49m\u001b[43mtb\u001b[49m\u001b[43m,\u001b[49m\u001b[43m \u001b[49m\u001b[43mtb_offset\u001b[49m\u001b[43m,\u001b[49m\u001b[43m \u001b[49m\u001b[43mnumber_of_lines_of_context\u001b[49m\n\u001b[1;32m   1014\u001b[0m \u001b[43m    \u001b[49m\u001b[43m)\u001b[49m\n\u001b[1;32m   1015\u001b[0m \u001b[38;5;28;01melif\u001b[39;00m mode \u001b[38;5;241m==\u001b[39m \u001b[38;5;124m'\u001b[39m\u001b[38;5;124mMinimal\u001b[39m\u001b[38;5;124m'\u001b[39m:\n\u001b[1;32m   1016\u001b[0m     \u001b[38;5;28;01mreturn\u001b[39;00m ListTB\u001b[38;5;241m.\u001b[39mget_exception_only(\u001b[38;5;28mself\u001b[39m, etype, value)\n",
      "File \u001b[0;32m/opt/anaconda3/envs/MLenv/lib/python3.9/site-packages/IPython/core/ultratb.py:865\u001b[0m, in \u001b[0;36mVerboseTB.structured_traceback\u001b[0;34m(self, etype, evalue, etb, tb_offset, number_of_lines_of_context)\u001b[0m\n\u001b[1;32m    856\u001b[0m \u001b[38;5;28;01mdef\u001b[39;00m \u001b[38;5;21mstructured_traceback\u001b[39m(\n\u001b[1;32m    857\u001b[0m     \u001b[38;5;28mself\u001b[39m,\n\u001b[1;32m    858\u001b[0m     etype: \u001b[38;5;28mtype\u001b[39m,\n\u001b[0;32m   (...)\u001b[0m\n\u001b[1;32m    862\u001b[0m     number_of_lines_of_context: \u001b[38;5;28mint\u001b[39m \u001b[38;5;241m=\u001b[39m \u001b[38;5;241m5\u001b[39m,\n\u001b[1;32m    863\u001b[0m ):\n\u001b[1;32m    864\u001b[0m     \u001b[38;5;124;03m\"\"\"Return a nice text document describing the traceback.\"\"\"\u001b[39;00m\n\u001b[0;32m--> 865\u001b[0m     formatted_exception \u001b[38;5;241m=\u001b[39m \u001b[38;5;28;43mself\u001b[39;49m\u001b[38;5;241;43m.\u001b[39;49m\u001b[43mformat_exception_as_a_whole\u001b[49m\u001b[43m(\u001b[49m\u001b[43metype\u001b[49m\u001b[43m,\u001b[49m\u001b[43m \u001b[49m\u001b[43mevalue\u001b[49m\u001b[43m,\u001b[49m\u001b[43m \u001b[49m\u001b[43metb\u001b[49m\u001b[43m,\u001b[49m\u001b[43m \u001b[49m\u001b[43mnumber_of_lines_of_context\u001b[49m\u001b[43m,\u001b[49m\n\u001b[1;32m    866\u001b[0m \u001b[43m                                                           \u001b[49m\u001b[43mtb_offset\u001b[49m\u001b[43m)\u001b[49m\n\u001b[1;32m    868\u001b[0m     colors \u001b[38;5;241m=\u001b[39m \u001b[38;5;28mself\u001b[39m\u001b[38;5;241m.\u001b[39mColors  \u001b[38;5;66;03m# just a shorthand + quicker name lookup\u001b[39;00m\n\u001b[1;32m    869\u001b[0m     colorsnormal \u001b[38;5;241m=\u001b[39m colors\u001b[38;5;241m.\u001b[39mNormal  \u001b[38;5;66;03m# used a lot\u001b[39;00m\n",
      "File \u001b[0;32m/opt/anaconda3/envs/MLenv/lib/python3.9/site-packages/IPython/core/ultratb.py:799\u001b[0m, in \u001b[0;36mVerboseTB.format_exception_as_a_whole\u001b[0;34m(self, etype, evalue, etb, number_of_lines_of_context, tb_offset)\u001b[0m\n\u001b[1;32m    796\u001b[0m \u001b[38;5;28;01massert\u001b[39;00m \u001b[38;5;28misinstance\u001b[39m(tb_offset, \u001b[38;5;28mint\u001b[39m)\n\u001b[1;32m    797\u001b[0m head \u001b[38;5;241m=\u001b[39m \u001b[38;5;28mself\u001b[39m\u001b[38;5;241m.\u001b[39mprepare_header(etype, \u001b[38;5;28mself\u001b[39m\u001b[38;5;241m.\u001b[39mlong_header)\n\u001b[1;32m    798\u001b[0m records \u001b[38;5;241m=\u001b[39m (\n\u001b[0;32m--> 799\u001b[0m     \u001b[38;5;28;43mself\u001b[39;49m\u001b[38;5;241;43m.\u001b[39;49m\u001b[43mget_records\u001b[49m\u001b[43m(\u001b[49m\u001b[43metb\u001b[49m\u001b[43m,\u001b[49m\u001b[43m \u001b[49m\u001b[43mnumber_of_lines_of_context\u001b[49m\u001b[43m,\u001b[49m\u001b[43m \u001b[49m\u001b[43mtb_offset\u001b[49m\u001b[43m)\u001b[49m \u001b[38;5;28;01mif\u001b[39;00m etb \u001b[38;5;28;01melse\u001b[39;00m []\n\u001b[1;32m    800\u001b[0m )\n\u001b[1;32m    802\u001b[0m frames \u001b[38;5;241m=\u001b[39m []\n\u001b[1;32m    803\u001b[0m skipped \u001b[38;5;241m=\u001b[39m \u001b[38;5;241m0\u001b[39m\n",
      "File \u001b[0;32m/opt/anaconda3/envs/MLenv/lib/python3.9/site-packages/IPython/core/ultratb.py:854\u001b[0m, in \u001b[0;36mVerboseTB.get_records\u001b[0;34m(self, etb, number_of_lines_of_context, tb_offset)\u001b[0m\n\u001b[1;32m    848\u001b[0m     formatter \u001b[38;5;241m=\u001b[39m \u001b[38;5;28;01mNone\u001b[39;00m\n\u001b[1;32m    849\u001b[0m options \u001b[38;5;241m=\u001b[39m stack_data\u001b[38;5;241m.\u001b[39mOptions(\n\u001b[1;32m    850\u001b[0m     before\u001b[38;5;241m=\u001b[39mbefore,\n\u001b[1;32m    851\u001b[0m     after\u001b[38;5;241m=\u001b[39mafter,\n\u001b[1;32m    852\u001b[0m     pygments_formatter\u001b[38;5;241m=\u001b[39mformatter,\n\u001b[1;32m    853\u001b[0m )\n\u001b[0;32m--> 854\u001b[0m \u001b[38;5;28;01mreturn\u001b[39;00m \u001b[38;5;28;43mlist\u001b[39;49m\u001b[43m(\u001b[49m\u001b[43mstack_data\u001b[49m\u001b[38;5;241;43m.\u001b[39;49m\u001b[43mFrameInfo\u001b[49m\u001b[38;5;241;43m.\u001b[39;49m\u001b[43mstack_data\u001b[49m\u001b[43m(\u001b[49m\u001b[43metb\u001b[49m\u001b[43m,\u001b[49m\u001b[43m \u001b[49m\u001b[43moptions\u001b[49m\u001b[38;5;241;43m=\u001b[39;49m\u001b[43moptions\u001b[49m\u001b[43m)\u001b[49m\u001b[43m)\u001b[49m[tb_offset:]\n",
      "File \u001b[0;32m/opt/anaconda3/envs/MLenv/lib/python3.9/site-packages/stack_data/core.py:546\u001b[0m, in \u001b[0;36mFrameInfo.stack_data\u001b[0;34m(cls, frame_or_tb, options, collapse_repeated_frames)\u001b[0m\n\u001b[1;32m    530\u001b[0m \u001b[38;5;129m@classmethod\u001b[39m\n\u001b[1;32m    531\u001b[0m \u001b[38;5;28;01mdef\u001b[39;00m \u001b[38;5;21mstack_data\u001b[39m(\n\u001b[1;32m    532\u001b[0m         \u001b[38;5;28mcls\u001b[39m,\n\u001b[0;32m   (...)\u001b[0m\n\u001b[1;32m    536\u001b[0m         collapse_repeated_frames: \u001b[38;5;28mbool\u001b[39m \u001b[38;5;241m=\u001b[39m \u001b[38;5;28;01mTrue\u001b[39;00m\n\u001b[1;32m    537\u001b[0m ) \u001b[38;5;241m-\u001b[39m\u001b[38;5;241m>\u001b[39m Iterator[Union[\u001b[38;5;124m'\u001b[39m\u001b[38;5;124mFrameInfo\u001b[39m\u001b[38;5;124m'\u001b[39m, RepeatedFrames]]:\n\u001b[1;32m    538\u001b[0m     \u001b[38;5;124;03m\"\"\"\u001b[39;00m\n\u001b[1;32m    539\u001b[0m \u001b[38;5;124;03m    An iterator of FrameInfo and RepeatedFrames objects representing\u001b[39;00m\n\u001b[1;32m    540\u001b[0m \u001b[38;5;124;03m    a full traceback or stack. Similar consecutive frames are collapsed into RepeatedFrames\u001b[39;00m\n\u001b[0;32m   (...)\u001b[0m\n\u001b[1;32m    544\u001b[0m \u001b[38;5;124;03m    and optionally an Options object to configure.\u001b[39;00m\n\u001b[1;32m    545\u001b[0m \u001b[38;5;124;03m    \"\"\"\u001b[39;00m\n\u001b[0;32m--> 546\u001b[0m     stack \u001b[38;5;241m=\u001b[39m \u001b[38;5;28;43mlist\u001b[39;49m\u001b[43m(\u001b[49m\u001b[43miter_stack\u001b[49m\u001b[43m(\u001b[49m\u001b[43mframe_or_tb\u001b[49m\u001b[43m)\u001b[49m\u001b[43m)\u001b[49m\n\u001b[1;32m    548\u001b[0m     \u001b[38;5;66;03m# Reverse the stack from a frame so that it's in the same order\u001b[39;00m\n\u001b[1;32m    549\u001b[0m     \u001b[38;5;66;03m# as the order from a traceback, which is the order of a printed\u001b[39;00m\n\u001b[1;32m    550\u001b[0m     \u001b[38;5;66;03m# traceback when read top to bottom (most recent call last)\u001b[39;00m\n\u001b[1;32m    551\u001b[0m     \u001b[38;5;28;01mif\u001b[39;00m is_frame(frame_or_tb):\n",
      "File \u001b[0;32m/opt/anaconda3/envs/MLenv/lib/python3.9/site-packages/stack_data/utils.py:98\u001b[0m, in \u001b[0;36miter_stack\u001b[0;34m(frame_or_tb)\u001b[0m\n\u001b[1;32m     96\u001b[0m \u001b[38;5;28;01mwhile\u001b[39;00m frame_or_tb:\n\u001b[1;32m     97\u001b[0m     \u001b[38;5;28;01myield\u001b[39;00m frame_or_tb\n\u001b[0;32m---> 98\u001b[0m     \u001b[38;5;28;01mif\u001b[39;00m \u001b[43mis_frame\u001b[49m\u001b[43m(\u001b[49m\u001b[43mframe_or_tb\u001b[49m\u001b[43m)\u001b[49m:\n\u001b[1;32m     99\u001b[0m         frame_or_tb \u001b[38;5;241m=\u001b[39m frame_or_tb\u001b[38;5;241m.\u001b[39mf_back\n\u001b[1;32m    100\u001b[0m     \u001b[38;5;28;01melse\u001b[39;00m:\n",
      "File \u001b[0;32m/opt/anaconda3/envs/MLenv/lib/python3.9/site-packages/stack_data/utils.py:91\u001b[0m, in \u001b[0;36mis_frame\u001b[0;34m(frame_or_tb)\u001b[0m\n\u001b[1;32m     90\u001b[0m \u001b[38;5;28;01mdef\u001b[39;00m \u001b[38;5;21mis_frame\u001b[39m(frame_or_tb: Union[FrameType, TracebackType]) \u001b[38;5;241m-\u001b[39m\u001b[38;5;241m>\u001b[39m \u001b[38;5;28mbool\u001b[39m:\n\u001b[0;32m---> 91\u001b[0m     \u001b[43massert_\u001b[49m\u001b[43m(\u001b[49m\u001b[38;5;28;43misinstance\u001b[39;49m\u001b[43m(\u001b[49m\u001b[43mframe_or_tb\u001b[49m\u001b[43m,\u001b[49m\u001b[43m \u001b[49m\u001b[43m(\u001b[49m\u001b[43mtypes\u001b[49m\u001b[38;5;241;43m.\u001b[39;49m\u001b[43mFrameType\u001b[49m\u001b[43m,\u001b[49m\u001b[43m \u001b[49m\u001b[43mtypes\u001b[49m\u001b[38;5;241;43m.\u001b[39;49m\u001b[43mTracebackType\u001b[49m\u001b[43m)\u001b[49m\u001b[43m)\u001b[49m\u001b[43m)\u001b[49m\n\u001b[1;32m     92\u001b[0m     \u001b[38;5;28;01mreturn\u001b[39;00m \u001b[38;5;28misinstance\u001b[39m(frame_or_tb, (types\u001b[38;5;241m.\u001b[39mFrameType,))\n",
      "File \u001b[0;32m/opt/anaconda3/envs/MLenv/lib/python3.9/site-packages/stack_data/utils.py:172\u001b[0m, in \u001b[0;36massert_\u001b[0;34m(condition, error)\u001b[0m\n\u001b[1;32m    170\u001b[0m \u001b[38;5;28;01mif\u001b[39;00m \u001b[38;5;28misinstance\u001b[39m(error, \u001b[38;5;28mstr\u001b[39m):\n\u001b[1;32m    171\u001b[0m     error \u001b[38;5;241m=\u001b[39m \u001b[38;5;167;01mAssertionError\u001b[39;00m(error)\n\u001b[0;32m--> 172\u001b[0m \u001b[38;5;28;01mraise\u001b[39;00m error\n",
      "\u001b[0;31mAssertionError\u001b[0m: "
     ]
    }
   ],
   "source": [
    "energies_sp = []\n",
    "gap_sp = []\n",
    "for i in range(len(structures)):\n",
    "    crystal_output = Crystal_output().read_cry_output('./data/crystal/lts/sp/output/lts_sp_%s.out'%str(i))\n",
    "    if crystal_output.get_final_energy() != None:\n",
    "        energies_sp.append(crystal_output.get_final_energy())\n",
    "        gap_sp.append(crystal_output.get_band_gap())"
   ]
  },
  {
   "cell_type": "markdown",
   "id": "806dd3ac",
   "metadata": {},
   "source": [
    "#### Optimised geometry"
   ]
  },
  {
   "cell_type": "code",
   "execution_count": 4,
   "id": "d5f819cc",
   "metadata": {},
   "outputs": [],
   "source": [
    "energies_opt = []\n",
    "gap_opt = []\n",
    "for i in range(len(structures)):\n",
    "    #crystal_output = Crystal_output().read_cry_output('./data/crystal/lts/sp/output/lts_sp_%s.out'%str(i))\n",
    "    if crystal_output.get_final_energy() != None:\n",
    "        energies_opt.append(crystal_output.get_final_energy())\n",
    "        gap_opt.append(crystal_output.get_band_gap())"
   ]
  },
  {
   "cell_type": "markdown",
   "id": "c483a48a",
   "metadata": {},
   "source": [
    "## Covert the LTS dataset to ASE"
   ]
  },
  {
   "cell_type": "code",
   "execution_count": 3,
   "id": "811cdb13",
   "metadata": {},
   "outputs": [],
   "source": [
    "ase_structures = []\n",
    "for i in range(len(structures)):\n",
    "    ase_struct = AseAtomsAdaptor().get_atoms(structures[i])\n",
    "    ase_structures.append(ase_struct)"
   ]
  },
  {
   "cell_type": "markdown",
   "id": "920fb8e3",
   "metadata": {},
   "source": [
    "# <a id='descriptors'>Descriptors</a>"
   ]
  },
  {
   "cell_type": "markdown",
   "id": "1e5dbb3a",
   "metadata": {},
   "source": [
    "## <a id='CM'>Coulomb Matrix</a>\n",
    "\n",
    "$M_{ij}^{Coulomb}= \\Bigl\\{^{0.5Z_i^{2.4} \\; \\; for \\; i=j}_{\\frac{Z_iZ_j}{R_{ij}}\\;\\;\\;\\; for \\; i\\neq j}$"
   ]
  },
  {
   "cell_type": "markdown",
   "id": "717024b9",
   "metadata": {},
   "source": [
    "(taken from the Dscribe website)\n",
    "\n",
    "The diagonal elements are the interaction of an atom with itself and are a polynomial fit of the atomic energies to the nuclear charge $Z_i$. \n",
    "\n",
    "The off-diagonal elements represent the Coulomb repulsion between nuclei $i$ and $j$."
   ]
  },
  {
   "cell_type": "code",
   "execution_count": 4,
   "id": "31436236",
   "metadata": {},
   "outputs": [
    {
     "name": "stdout",
     "output_type": "stream",
     "text": [
      "matrices read: 200 , time: 0:00:00.025629\n",
      "matrices read: 400 , time: 0:00:00.056160\n",
      "matrices read: 600 , time: 0:00:00.082902\n",
      "matrices read: 800 , time: 0:00:00.108168\n",
      "matrices read: 1000 , time: 0:00:00.133687\n",
      "matrices read: 1200 , time: 0:00:00.159049\n",
      "matrices read: 1400 , time: 0:00:00.184340\n",
      "matrices read: 1600 , time: 0:00:00.209612\n",
      "matrices read: 1800 , time: 0:00:00.234741\n",
      "matrices read: 2000 , time: 0:00:00.260694\n",
      "matrices read: 2200 , time: 0:00:00.287076\n",
      "matrices read: 2400 , time: 0:00:00.313768\n",
      "matrices read: 2600 , time: 0:00:00.343454\n",
      "matrices read: 2800 , time: 0:00:00.369705\n",
      "matrices read: 3000 , time: 0:00:00.395439\n",
      "matrices read: 3200 , time: 0:00:00.421684\n",
      "matrices read: 3400 , time: 0:00:00.447402\n",
      "matrices read: 3600 , time: 0:00:00.473046\n",
      "matrices read: 3800 , time: 0:00:00.498897\n",
      "matrices read: 4000 , time: 0:00:00.524510\n",
      "Number of matrices read:  4023\n",
      "--- 0:00:00.530027 time taken ---\n"
     ]
    }
   ],
   "source": [
    "#dscribe descriptors CM\n",
    "from dscribe.descriptors import CoulombMatrix\n",
    "\n",
    "cm_dscribe = []\n",
    "cm_ds = CoulombMatrix(n_atoms_max=54,permutation=\"eigenspectrum\")\n",
    "start = datetime.now()\n",
    "for i,ase_struct in enumerate(ase_structures):\n",
    "    dscribe_matrix = cm_ds.create(ase_struct)\n",
    "    cm_dscribe.append(dscribe_matrix)\n",
    "    now = datetime.now()\n",
    "    if (i+1)%200 == 0: \n",
    "        print(\"matrices read:\", len(cm_dscribe),\", time:\", (now - start))\n",
    "cm_dscribe = np.array(cm_dscribe)   \n",
    "print('Number of matrices read: ', len(cm_dscribe))\n",
    "print(\"--- %s time taken ---\" % (datetime.now()- start))"
   ]
  },
  {
   "cell_type": "markdown",
   "id": "502f6286",
   "metadata": {},
   "source": [
    "### Inspect the descriptor"
   ]
  },
  {
   "cell_type": "markdown",
   "id": "c2af881e",
   "metadata": {},
   "source": [
    "#### Full matrix"
   ]
  },
  {
   "cell_type": "code",
   "execution_count": 80,
   "id": "809c6812",
   "metadata": {},
   "outputs": [
    {
     "name": "stdout",
     "output_type": "stream",
     "text": [
      "[[  6.98330508   2.50278676   2.50278676 ...  18.87719988   6.29239996\n",
      "   10.89875643]\n",
      " [  2.50278676   6.98330508   1.25139338 ...  10.89875643   4.33072666\n",
      "    6.29239996]\n",
      " [  2.50278676   1.25139338   6.98330508 ...  10.89875643  10.89875643\n",
      "   18.87719988]\n",
      " ...\n",
      " [ 18.87719988  10.89875643  10.89875643 ... 388.02344103  35.59518946\n",
      "   71.19037891]\n",
      " [  6.29239996   4.33072666  10.89875643 ...  35.59518946 388.02344103\n",
      "   71.19037891]\n",
      " [ 10.89875643   6.29239996  18.87719988 ...  71.19037891  71.19037891\n",
      "  388.02344103]]\n",
      "(54, 54)\n"
     ]
    }
   ],
   "source": [
    "cm_ds = CoulombMatrix(n_atoms_max=54,permutation='none',flatten=False)\n",
    "print(cm_ds.create(ase_structures[0]))\n",
    "print(cm_ds.create(ase_structures[0]).shape)"
   ]
  },
  {
   "cell_type": "markdown",
   "id": "d173eaa5",
   "metadata": {},
   "source": [
    "#### Eigenvalues only"
   ]
  },
  {
   "cell_type": "code",
   "execution_count": 81,
   "id": "a469d216",
   "metadata": {},
   "outputs": [
    {
     "name": "stdout",
     "output_type": "stream",
     "text": [
      "[2679.77619447 1133.67577892  913.07374493  841.08011951  712.6289803\n",
      "  708.830714    692.25295309  656.98047438  655.93789699  611.12050477\n",
      "  467.43255314  434.36093126  405.95650918  373.37691024  360.90885612\n",
      "  360.73370676  330.59963438  323.17143181  321.91922861  319.70671666\n",
      "  317.12026943  310.00661992  304.11487923  301.61723033  299.21583906\n",
      "  298.12478161  296.60093965  292.83209275  292.52858515  292.14396424\n",
      "  291.40954568  283.9316412   283.8511157   283.12161825  282.57751345\n",
      "  280.79923438   12.8666636     7.39275912    7.03464999    5.57408163\n",
      "    5.28041001    4.54978872    4.52989384    4.34655433    4.22686951\n",
      "    4.14798147    3.80471049    3.74741204    3.72709043    3.52626779\n",
      "    3.47022584    3.37089434    3.33626234    3.28758742]\n",
      "(54,)\n"
     ]
    }
   ],
   "source": [
    "cm_ds = CoulombMatrix(n_atoms_max=54,permutation='eigenspectrum')\n",
    "print(cm_ds.create(ase_structures[0]))\n",
    "print(cm_ds.create(ase_structures[0]).shape)"
   ]
  },
  {
   "cell_type": "code",
   "execution_count": 10,
   "id": "53b8192e",
   "metadata": {},
   "outputs": [],
   "source": [
    "# Save cme to file\n",
    "np.save('./data/descriptors/cm_dscribe.npy',cm_dscribe,allow_pickle=True)"
   ]
  },
  {
   "cell_type": "code",
   "execution_count": 21,
   "id": "5e0e82c1",
   "metadata": {},
   "outputs": [
    {
     "data": {
      "text/plain": [
       "(4023, 54)"
      ]
     },
     "execution_count": 21,
     "metadata": {},
     "output_type": "execute_result"
    }
   ],
   "source": [
    "# Read cme from file\n",
    "cm_dscribe = np.load('./data/descriptors/cm_dscribe.npy',allow_pickle=True)\n",
    "cm_dscribe.shape"
   ]
  },
  {
   "cell_type": "markdown",
   "id": "6a897ce1",
   "metadata": {},
   "source": [
    "### Test the parameters"
   ]
  },
  {
   "cell_type": "markdown",
   "id": "37963571",
   "metadata": {},
   "source": [
    "#there's not really any parameters that needed to be set for CME as there is only the maximum atoms"
   ]
  },
  {
   "cell_type": "code",
   "execution_count": null,
   "id": "1d5b8b9c",
   "metadata": {},
   "outputs": [],
   "source": []
  },
  {
   "cell_type": "markdown",
   "id": "bda5fd55",
   "metadata": {},
   "source": [
    "# SOAP"
   ]
  },
  {
   "cell_type": "markdown",
   "id": "a2822fd7",
   "metadata": {},
   "source": [
    "$P_{nn'l}^{Z_1Z_2} = \\pi \\sqrt{\\frac{8}{2l+1}}\\sum c_{nlm}^{Z_1}*c_{n'lm}^{Z_2}$"
   ]
  },
  {
   "cell_type": "markdown",
   "id": "28beb4dc",
   "metadata": {},
   "source": [
    "where the $n$ indices for the different radial basis functions for up to $n_{max}$, $l$ is the angular degree of the spherical harmonics up to $l_{max}$. \n",
    "<br>\n",
    "The defult for Dscribe descriptors are the spherical gaussian type orbitals as riadial baiss functions."
   ]
  },
  {
   "cell_type": "code",
   "execution_count": 8,
   "id": "8ccb1c98",
   "metadata": {},
   "outputs": [],
   "source": [
    "#setting up the SOAP descriptor\n",
    "\n",
    "from dscribe.descriptors import SOAP\n",
    "\n",
    "\n",
    "rcut = 6.0\n",
    "nmax = 8\n",
    "lmax = 6\n",
    "\n",
    "soap = SOAP(\n",
    "    species = [\"Li\", \"Ti\", \"S\"],\n",
    "    periodic= True,\n",
    "    r_cut=rcut,\n",
    "    n_max=nmax,\n",
    "    l_max=lmax\n",
    ")"
   ]
  },
  {
   "cell_type": "code",
   "execution_count": 9,
   "id": "6083a619",
   "metadata": {},
   "outputs": [
    {
     "name": "stdout",
     "output_type": "stream",
     "text": [
      "matrices read: 20 , time: 0:00:00.315297\n",
      "matrices read: 200 , time: 0:00:02.740344\n",
      "matrices read: 400 , time: 0:00:05.487684\n",
      "matrices read: 600 , time: 0:00:08.235443\n",
      "matrices read: 800 , time: 0:00:10.956856\n",
      "matrices read: 1000 , time: 0:00:13.713330\n",
      "matrices read: 1200 , time: 0:00:16.463137\n",
      "matrices read: 1400 , time: 0:00:19.200754\n",
      "matrices read: 1600 , time: 0:00:21.947930\n",
      "matrices read: 1800 , time: 0:00:25.024074\n",
      "matrices read: 2000 , time: 0:00:27.867552\n",
      "matrices read: 2200 , time: 0:00:30.692632\n",
      "matrices read: 2400 , time: 0:00:33.656431\n",
      "matrices read: 2600 , time: 0:00:36.643515\n",
      "matrices read: 2800 , time: 0:00:39.664166\n",
      "matrices read: 3000 , time: 0:00:42.882371\n",
      "matrices read: 3200 , time: 0:00:45.853716\n",
      "matrices read: 3400 , time: 0:00:48.810812\n",
      "matrices read: 3600 , time: 0:00:52.054134\n",
      "matrices read: 3800 , time: 0:00:55.130138\n",
      "matrices read: 4000 , time: 0:00:58.156553\n",
      "Number of matrices read:  4023\n",
      "--- 0:00:58.511120 time taken ---\n"
     ]
    }
   ],
   "source": [
    "soap_dscribe = []\n",
    "start = datetime.now()\n",
    "for i,ase_struct in enumerate(ase_structures):\n",
    "    soap_matrix = soap.create(ase_struct)\n",
    "    #soap_matrix = np.real(soap_matrix)\n",
    "    soap_dscribe.append(soap_matrix)\n",
    "    now = datetime.now()\n",
    "    if int(len(soap_dscribe)) == 20:\n",
    "        print(\"matrices read:\", len(soap_dscribe),\", time:\", (now - start))\n",
    "    if int(len(soap_dscribe))%200 == 0: \n",
    "        print(\"matrices read:\", len(soap_dscribe),\", time:\", (now - start))\n",
    "    \n",
    "print('Number of matrices read: ', len(soap_dscribe))\n",
    "print(\"--- %s time taken ---\" % ((datetime.now() - start)))"
   ]
  },
  {
   "cell_type": "code",
   "execution_count": 18,
   "id": "bef5f13f",
   "metadata": {},
   "outputs": [],
   "source": [
    "# Save SOAP to file\n",
    "np.save('./data/descriptors/soap_dscribe.npy',soap_dscribe,allow_pickle=True)"
   ]
  },
  {
   "cell_type": "code",
   "execution_count": 22,
   "id": "54f9a000",
   "metadata": {},
   "outputs": [
    {
     "data": {
      "text/plain": [
       "(4023, 54, 2100)"
      ]
     },
     "execution_count": 22,
     "metadata": {},
     "output_type": "execute_result"
    }
   ],
   "source": [
    "# Read SOAP from file\n",
    "soap_dscribe = np.load('./data/descriptors/soap_dscribe.npy',allow_pickle=True)\n",
    "soap_dscribe.shape"
   ]
  },
  {
   "cell_type": "code",
   "execution_count": 9,
   "id": "40dd4c15",
   "metadata": {},
   "outputs": [
    {
     "name": "stdout",
     "output_type": "stream",
     "text": [
      "[[ 1.31353093e-02  7.73465020e-02  1.38221146e-01 ...  1.96508259e-01\n",
      "  -3.96163258e-01  9.21863184e-01]\n",
      " [ 1.31353093e-02  7.73465020e-02  1.38221146e-01 ...  1.96508259e-01\n",
      "  -3.96163258e-01  9.21863184e-01]\n",
      " [ 1.31353093e-02  7.73465020e-02  1.38221146e-01 ...  1.96508259e-01\n",
      "  -3.96163258e-01  9.21863184e-01]\n",
      " ...\n",
      " [ 1.11314369e-03  4.06866813e-04  1.98625315e-02 ...  4.60933402e-01\n",
      "  -6.75916720e-01  9.92822626e-01]\n",
      " [ 1.11314369e-03  4.06866813e-04  1.98625315e-02 ...  4.60933402e-01\n",
      "  -6.75916720e-01  9.92822626e-01]\n",
      " [ 1.11314369e-03  4.06866813e-04  1.98625315e-02 ...  4.60933402e-01\n",
      "  -6.75916720e-01  9.92822626e-01]]\n"
     ]
    }
   ],
   "source": [
    "print(soap_dscribe[0])"
   ]
  },
  {
   "cell_type": "code",
   "execution_count": 10,
   "id": "49cb0a95",
   "metadata": {},
   "outputs": [
    {
     "name": "stdout",
     "output_type": "stream",
     "text": [
      "(54, 2100)\n"
     ]
    }
   ],
   "source": [
    "print(soap_dscribe[0].shape)"
   ]
  },
  {
   "cell_type": "markdown",
   "id": "d6b72828",
   "metadata": {},
   "source": [
    "###  Inspection of the descriptor"
   ]
  },
  {
   "cell_type": "code",
   "execution_count": 45,
   "id": "d81cdef2",
   "metadata": {},
   "outputs": [],
   "source": [
    "#reference\n",
    "\n",
    "rcut = 20\n",
    "nmax = 8\n",
    "lmax = 6\n",
    "soap = SOAP(\n",
    "            species = [\"Li\", \"Ti\", \"S\"],\n",
    "            periodic= True,\n",
    "            r_cut=rcut,\n",
    "            n_max=nmax,\n",
    "            l_max=lmax,\n",
    "\n",
    "        )\n",
    "        \n",
    "\n",
    "soap_max = soap.create(ase_structures[0])"
   ]
  },
  {
   "cell_type": "code",
   "execution_count": 49,
   "id": "fd26a67f",
   "metadata": {},
   "outputs": [
    {
     "name": "stdout",
     "output_type": "stream",
     "text": [
      "[[ 2.45363608e-01  1.45172131e+00 -3.82618049e-01 ...  1.20095615e+01\n",
      "  -1.96018038e+01  3.19962695e+01]\n",
      " [ 2.45363608e-01  1.45172131e+00 -3.82618049e-01 ...  1.20095615e+01\n",
      "  -1.96018038e+01  3.19962695e+01]\n",
      " [ 2.45363608e-01  1.45172131e+00 -3.82618049e-01 ...  1.20095615e+01\n",
      "  -1.96018038e+01  3.19962695e+01]\n",
      " ...\n",
      " [ 2.03856634e-02  3.98716685e-02  2.20314643e-01 ...  2.23668637e+01\n",
      "  -2.69527879e+01  3.24809737e+01]\n",
      " [ 2.03856634e-02  3.98716685e-02  2.20314643e-01 ...  2.23668637e+01\n",
      "  -2.69527879e+01  3.24809737e+01]\n",
      " [ 2.03856634e-02  3.98716685e-02  2.20314643e-01 ...  2.23668637e+01\n",
      "  -2.69527879e+01  3.24809737e+01]]\n",
      "(113400,)\n"
     ]
    }
   ],
   "source": [
    "print(soap_max)\n",
    "flat = soap_max.flatten()\n",
    "print(flat.shape)\n"
   ]
  },
  {
   "cell_type": "code",
   "execution_count": 34,
   "id": "298af516",
   "metadata": {},
   "outputs": [
    {
     "name": "stdout",
     "output_type": "stream",
     "text": [
      "rcut = 6 nmax = 12 lmax = 12 done\n",
      "time taken to finish cycle with r=6 :0:00:35.787226\n",
      "rcut = 7 nmax = 12 lmax = 12 done\n",
      "time taken to finish cycle with r=7 :0:01:18.438452\n",
      "rcut = 8 nmax = 12 lmax = 12 done\n",
      "time taken to finish cycle with r=8 :0:02:21.214211\n",
      "rcut = 9 nmax = 12 lmax = 12 done\n",
      "time taken to finish cycle with r=9 :0:03:34.268824\n",
      "rcut = 10 nmax = 12 lmax = 12 done\n",
      "time taken to finish cycle with r=10 :0:05:12.565188\n",
      "rcut = 11 nmax = 12 lmax = 12 done\n",
      "time taken to finish cycle with r=11 :0:07:03.181612\n",
      "rcut = 12 nmax = 12 lmax = 12 done\n",
      "time taken to finish cycle with r=12 :0:09:24.924673\n"
     ]
    }
   ],
   "source": [
    "#changing the parameters to see how the value change:\n",
    "#rcut = np.arange(6,21,1)\n",
    "rcut = np.arange(6,13,1)\n",
    "nmax = list(range(1,13))\n",
    "lmax = np.arange(1,13,1)\n",
    "dct = {}\n",
    "#nmax = 8\n",
    "\n",
    "#lmax = 6\n",
    "start = datetime.now()\n",
    "for r in rcut:\n",
    "    for n in nmax:\n",
    "        for l in lmax:\n",
    "            soap = SOAP(\n",
    "                species = [\"Li\", \"Ti\", \"S\"],\n",
    "                periodic= True,\n",
    "                    r_cut=r,\n",
    "                    n_max=n,\n",
    "                    l_max=l\n",
    "                )\n",
    "      \n",
    "            dct['r_%s_n_%s_l_%s' % (r, n, l) ] = []\n",
    "            for a in range(10):\n",
    "                soap_matrix = soap.create(ase_structures[a])\n",
    "#            soap_matrix = soap.create(ase_structures[1:10])\n",
    "                dct['r_%s_n_%s_l_%s' % (r, n, l)].append(soap_matrix)\n",
    "                now = datetime.now()\n",
    "        \n",
    "    print('rcut =',r , 'nmax =',n , 'lmax =',l, 'done')\n",
    "    print('time taken to finish cycle with r=%s :%s' % (r, datetime.now() - start))        "
   ]
  },
  {
   "cell_type": "code",
   "execution_count": 76,
   "id": "a90c35ac",
   "metadata": {},
   "outputs": [],
   "source": [
    "#lets assume ideal lmax and nmax = 12\n",
    "#let's use linear regression and plot the MAE\n",
    "\n",
    "#Testing Rcut values \n",
    "    #need to find the ideal n and l values as well\n",
    "testE = np.arange(400,500,10)\n",
    "para_test_soap = pd.DataFrame(testE)\n",
    "\n",
    "#need to split all of the descriptors to training set and test set\n",
    "\n",
    "for i in rcut:\n",
    "    para_test_soap['r_%s_n_12_l_12' %str(i)] = dct['r_%s_n_12_l_12' %str(i)]\n",
    "    X_train, X_test, y_train, y_test = train_test_split(para_test_soap['r_%s_n_12_l_12' %str(i)], para_test_soap[0], random_state=1, test_size = 0.5)\n",
    "    scaler = MinMaxScaler()  \n",
    "    #scaler.fit(X_train)  \n",
    "    #X_train = scaler.transform(X_train)  \n",
    "    #X_test = scaler.transform(X_test) \n",
    "\n",
    "#and then need to run to fit for each r values\n",
    "#predictions for the energies for each r values\n",
    "#calculations for the errors\n",
    "#plotting of the errors against the increasing rcut value"
   ]
  },
  {
   "cell_type": "markdown",
   "id": "d3b38c52",
   "metadata": {},
   "source": [
    "## MBTR Descriptor"
   ]
  },
  {
   "cell_type": "code",
   "execution_count": 60,
   "id": "25992538",
   "metadata": {},
   "outputs": [],
   "source": [
    "from dscribe.descriptors import MBTR\n",
    "\n",
    "#setting up the MBTR descriptor\n",
    "mbtr = MBTR(\n",
    "    species=[\"Li\", \"Ti\", \"S\"],\n",
    "    k1={\n",
    "        \"geometry\": {\"function\": \"atomic_number\"},\n",
    "        \"grid\": {\"min\": 0, \"max\": 8, \"n\": 200, \"sigma\": 0.1},\n",
    "    },\n",
    "    k2={\n",
    "        \"geometry\": {\"function\": \"inverse_distance\"},\n",
    "        \"grid\": {\"min\": 0, \"max\": 1, \"n\": 100, \"sigma\": 0.1},\n",
    "        \"weighting\": {\"function\": \"exp\", \"scale\": 0.5, \"threshold\": 1e-3},\n",
    "    },\n",
    "    k3={\n",
    "        \"geometry\": {\"function\": \"cosine\"},\n",
    "        \"grid\": {\"min\": -1, \"max\": 1, \"n\": 100, \"sigma\": 0.1},\n",
    "        \"weighting\": {\"function\": \"exp\", \"scale\": 0.5, \"threshold\": 1e-3},\n",
    "    },\n",
    "    periodic=True,\n",
    "    normalization=\"l2_each\",\n",
    "    flatten=True,\n",
    "    #sparse=False (only changes the return type)\n",
    ")"
   ]
  },
  {
   "cell_type": "code",
   "execution_count": 90,
   "id": "447bdce9",
   "metadata": {},
   "outputs": [
    {
     "name": "stdout",
     "output_type": "stream",
     "text": [
      "matrices read: 20 , time: 0:00:18.676465\n",
      "matrices read: 200 , time: 0:03:04.618426\n",
      "matrices read: 400 , time: 0:06:11.888169\n",
      "matrices read: 600 , time: 0:09:21.978380\n",
      "matrices read: 800 , time: 0:12:30.620042\n",
      "matrices read: 1000 , time: 0:15:43.693479\n",
      "matrices read: 1200 , time: 0:18:55.219530\n",
      "matrices read: 1400 , time: 0:22:06.129798\n",
      "matrices read: 1600 , time: 0:25:17.181301\n",
      "matrices read: 1800 , time: 0:28:27.808202\n",
      "matrices read: 2000 , time: 0:31:38.854499\n",
      "matrices read: 2200 , time: 0:34:50.827510\n",
      "matrices read: 2400 , time: 0:38:02.551797\n",
      "matrices read: 2600 , time: 0:41:15.546765\n",
      "matrices read: 2800 , time: 0:44:27.683920\n",
      "matrices read: 3000 , time: 0:47:43.159158\n",
      "matrices read: 3200 , time: 0:50:58.429130\n",
      "matrices read: 3400 , time: 0:54:15.664723\n",
      "matrices read: 3600 , time: 0:57:28.496517\n",
      "matrices read: 3800 , time: 1:00:42.225574\n",
      "matrices read: 4000 , time: 1:03:56.288877\n",
      "Number of matrices read:  4023\n",
      "--- 1:04:18.460093 time taken ---\n"
     ]
    }
   ],
   "source": [
    "#MBTR descriptor\n",
    "mbtr_dscribe = []\n",
    "start = datetime.now()\n",
    "for i,ase_struct in enumerate(ase_structures):\n",
    "    mbtr_matrix = mbtr.create(ase_struct)\n",
    "    #mbtr_matrix = np.real(mbtr_matrix)\n",
    "    mbtr_dscribe.append(mbtr_matrix)\n",
    "    now = datetime.now()\n",
    "    if int(len(mbtr_dscribe)) == 20:\n",
    "        print(\"matrices read:\", len(mbtr_dscribe),\", time:\", (now - start))\n",
    "    if int(len(mbtr_dscribe))%200 == 0: \n",
    "        print(\"matrices read:\", len(mbtr_dscribe),\", time:\", (now - start))\n",
    "print('Number of matrices read: ', len(mbtr_dscribe))\n",
    "print(\"--- %s time taken ---\" % ((datetime.now() - start)))"
   ]
  },
  {
   "cell_type": "code",
   "execution_count": null,
   "id": "9b725b53",
   "metadata": {},
   "outputs": [],
   "source": [
    "# Save MBTR to file\n",
    "np.save('./data/descriptors/MBTR_dscribe.npy',mbtr_dscribe,allow_pickle=True)"
   ]
  },
  {
   "cell_type": "code",
   "execution_count": null,
   "id": "ef64ac0b",
   "metadata": {},
   "outputs": [],
   "source": [
    "# Read MBTR from file\n",
    "MBTR_dscribe = np.load('./data/descriptors/MBTR_dscribe.npy',allow_pickle=True)\n",
    "MBTR_dscribe.shape"
   ]
  },
  {
   "cell_type": "code",
   "execution_count": 61,
   "id": "3bb60b1b",
   "metadata": {},
   "outputs": [],
   "source": [
    "mbtr_1 = mbtr.create(ase_structures[0])"
   ]
  },
  {
   "cell_type": "code",
   "execution_count": 65,
   "id": "f4cbaef0",
   "metadata": {},
   "outputs": [
    {
     "name": "stdout",
     "output_type": "stream",
     "text": [
      "[0.         0.         0.         ... 0.00166096 0.00134801 0.00105044]\n",
      "(3000,)\n"
     ]
    }
   ],
   "source": [
    "print(mbtr_1)\n",
    "print(np.shape(mbtr_1))"
   ]
  },
  {
   "cell_type": "markdown",
   "id": "ba2a8672",
   "metadata": {},
   "source": [
    "### Inspection of the descriptor"
   ]
  },
  {
   "cell_type": "code",
   "execution_count": null,
   "id": "319faf5e",
   "metadata": {},
   "outputs": [],
   "source": []
  },
  {
   "cell_type": "markdown",
   "id": "dd7d0b66",
   "metadata": {},
   "source": [
    "## Local Many Body Tensor Representation"
   ]
  },
  {
   "cell_type": "code",
   "execution_count": 109,
   "id": "99f803c1",
   "metadata": {},
   "outputs": [],
   "source": [
    "from dscribe.descriptors import LMBTR\n",
    "lmbtr = LMBTR(\n",
    "    species=[\"Li\", \"Ti\", \"S\"],\n",
    "k2={\n",
    "        \"geometry\": {\"function\": \"inverse_distance\"},\n",
    "        \"grid\": {\"min\": 0, \"max\": 1, \"n\": 100, \"sigma\": 0.1},\n",
    "        \"weighting\": {\"function\": \"exp\", \"scale\": 0.5, \"threshold\": 1e-3},\n",
    "    },\n",
    "    k3={\n",
    "        \"geometry\": {\"function\": \"cosine\"},\n",
    "        \"grid\": {\"min\": -1, \"max\": 1, \"n\": 100, \"sigma\": 0.1},\n",
    "        \"weighting\": {\"function\": \"exp\", \"scale\": 0.5, \"threshold\": 1e-3},\n",
    "    },\n",
    "    periodic=True,\n",
    "    normalization=\"l2_each\",\n",
    "    flatten =True\n",
    ")\n"
   ]
  },
  {
   "cell_type": "code",
   "execution_count": 110,
   "id": "74d66551",
   "metadata": {},
   "outputs": [
    {
     "name": "stdout",
     "output_type": "stream",
     "text": [
      "matrices read: 20 , time: 0:00:29.723770\n"
     ]
    },
    {
     "ename": "KeyboardInterrupt",
     "evalue": "",
     "output_type": "error",
     "traceback": [
      "\u001b[0;31m---------------------------------------------------------------------------\u001b[0m",
      "\u001b[0;31mKeyboardInterrupt\u001b[0m                         Traceback (most recent call last)",
      "Cell \u001b[0;32mIn[110], line 4\u001b[0m\n\u001b[1;32m      2\u001b[0m start \u001b[38;5;241m=\u001b[39m datetime\u001b[38;5;241m.\u001b[39mnow()\n\u001b[1;32m      3\u001b[0m \u001b[38;5;28;01mfor\u001b[39;00m i,ase_struct \u001b[38;5;129;01min\u001b[39;00m \u001b[38;5;28menumerate\u001b[39m(ase_structures):\n\u001b[0;32m----> 4\u001b[0m     lmbtr_matrix \u001b[38;5;241m=\u001b[39m \u001b[43mlmbtr\u001b[49m\u001b[38;5;241;43m.\u001b[39;49m\u001b[43mcreate\u001b[49m\u001b[43m(\u001b[49m\u001b[43mase_struct\u001b[49m\u001b[43m)\u001b[49m\n\u001b[1;32m      5\u001b[0m     lmbtr_dscribe\u001b[38;5;241m.\u001b[39mappend(lmbtr_matrix)\n\u001b[1;32m      6\u001b[0m     now \u001b[38;5;241m=\u001b[39m datetime\u001b[38;5;241m.\u001b[39mnow()\n",
      "File \u001b[0;32m/opt/anaconda3/envs/MLenv/lib/python3.9/site-packages/dscribe/descriptors/lmbtr.py:286\u001b[0m, in \u001b[0;36mLMBTR.create\u001b[0;34m(self, system, positions, n_jobs, only_physical_cores, verbose)\u001b[0m\n\u001b[1;32m    283\u001b[0m     static_size \u001b[38;5;241m=\u001b[39m [n_centers, n_features]\n\u001b[1;32m    285\u001b[0m \u001b[38;5;66;03m# Create in parallel\u001b[39;00m\n\u001b[0;32m--> 286\u001b[0m output \u001b[38;5;241m=\u001b[39m \u001b[38;5;28;43mself\u001b[39;49m\u001b[38;5;241;43m.\u001b[39;49m\u001b[43mcreate_parallel\u001b[49m\u001b[43m(\u001b[49m\n\u001b[1;32m    287\u001b[0m \u001b[43m    \u001b[49m\u001b[43minp\u001b[49m\u001b[43m,\u001b[49m\n\u001b[1;32m    288\u001b[0m \u001b[43m    \u001b[49m\u001b[38;5;28;43mself\u001b[39;49m\u001b[38;5;241;43m.\u001b[39;49m\u001b[43mcreate_single\u001b[49m\u001b[43m,\u001b[49m\n\u001b[1;32m    289\u001b[0m \u001b[43m    \u001b[49m\u001b[43mn_jobs\u001b[49m\u001b[43m,\u001b[49m\n\u001b[1;32m    290\u001b[0m \u001b[43m    \u001b[49m\u001b[43mstatic_size\u001b[49m\u001b[43m,\u001b[49m\n\u001b[1;32m    291\u001b[0m \u001b[43m    \u001b[49m\u001b[43monly_physical_cores\u001b[49m\u001b[43m,\u001b[49m\n\u001b[1;32m    292\u001b[0m \u001b[43m    \u001b[49m\u001b[43mverbose\u001b[49m\u001b[38;5;241;43m=\u001b[39;49m\u001b[43mverbose\u001b[49m\u001b[43m,\u001b[49m\n\u001b[1;32m    293\u001b[0m \u001b[43m\u001b[49m\u001b[43m)\u001b[49m\n\u001b[1;32m    295\u001b[0m \u001b[38;5;28;01mreturn\u001b[39;00m output\n",
      "File \u001b[0;32m/opt/anaconda3/envs/MLenv/lib/python3.9/site-packages/dscribe/descriptors/descriptor.py:199\u001b[0m, in \u001b[0;36mDescriptor.create_parallel\u001b[0;34m(self, inp, func, n_jobs, static_size, only_physical_cores, verbose, prefer)\u001b[0m\n\u001b[1;32m    197\u001b[0m \u001b[38;5;66;03m# If single system given, skip the parallelization overhead\u001b[39;00m\n\u001b[1;32m    198\u001b[0m \u001b[38;5;28;01mif\u001b[39;00m \u001b[38;5;28mlen\u001b[39m(inp) \u001b[38;5;241m==\u001b[39m \u001b[38;5;241m1\u001b[39m:\n\u001b[0;32m--> 199\u001b[0m     \u001b[38;5;28;01mreturn\u001b[39;00m \u001b[43mfunc\u001b[49m\u001b[43m(\u001b[49m\u001b[38;5;241;43m*\u001b[39;49m\u001b[43minp\u001b[49m\u001b[43m[\u001b[49m\u001b[38;5;241;43m0\u001b[39;49m\u001b[43m]\u001b[49m\u001b[43m)\u001b[49m\n\u001b[1;32m    201\u001b[0m \u001b[38;5;66;03m# Determine the number of jobs\u001b[39;00m\n\u001b[1;32m    202\u001b[0m \u001b[38;5;28;01mif\u001b[39;00m n_jobs \u001b[38;5;241m<\u001b[39m \u001b[38;5;241m0\u001b[39m:\n",
      "File \u001b[0;32m/opt/anaconda3/envs/MLenv/lib/python3.9/site-packages/dscribe/descriptors/lmbtr.py:401\u001b[0m, in \u001b[0;36mLMBTR.create_single\u001b[0;34m(self, system, positions)\u001b[0m\n\u001b[1;32m    396\u001b[0m \u001b[38;5;28;01mif\u001b[39;00m \u001b[38;5;28mself\u001b[39m\u001b[38;5;241m.\u001b[39mk2 \u001b[38;5;129;01mis\u001b[39;00m \u001b[38;5;129;01mnot\u001b[39;00m \u001b[38;5;28;01mNone\u001b[39;00m:\n\u001b[1;32m    397\u001b[0m     new_system_k2 \u001b[38;5;241m=\u001b[39m System(\n\u001b[1;32m    398\u001b[0m         symbols\u001b[38;5;241m=\u001b[39mnew_atomic_numbers_k2,\n\u001b[1;32m    399\u001b[0m         positions\u001b[38;5;241m=\u001b[39mnew_pos_k2,\n\u001b[1;32m    400\u001b[0m     )\n\u001b[0;32m--> 401\u001b[0m     mbtr[\u001b[38;5;124m\"\u001b[39m\u001b[38;5;124mk2\u001b[39m\u001b[38;5;124m\"\u001b[39m] \u001b[38;5;241m=\u001b[39m \u001b[38;5;28;43mself\u001b[39;49m\u001b[38;5;241;43m.\u001b[39;49m\u001b[43m_get_k2\u001b[49m\u001b[43m(\u001b[49m\u001b[43msystem\u001b[49m\u001b[43m,\u001b[49m\u001b[43m \u001b[49m\u001b[43mnew_system_k2\u001b[49m\u001b[43m,\u001b[49m\u001b[43m \u001b[49m\u001b[43mindices_k2\u001b[49m\u001b[43m)\u001b[49m\n\u001b[1;32m    403\u001b[0m \u001b[38;5;28;01mif\u001b[39;00m \u001b[38;5;28mself\u001b[39m\u001b[38;5;241m.\u001b[39mk3 \u001b[38;5;129;01mis\u001b[39;00m \u001b[38;5;129;01mnot\u001b[39;00m \u001b[38;5;28;01mNone\u001b[39;00m:\n\u001b[1;32m    404\u001b[0m     new_system_k3 \u001b[38;5;241m=\u001b[39m System(\n\u001b[1;32m    405\u001b[0m         symbols\u001b[38;5;241m=\u001b[39mnew_atomic_numbers_k3,\n\u001b[1;32m    406\u001b[0m         positions\u001b[38;5;241m=\u001b[39mnew_pos_k3,\n\u001b[1;32m    407\u001b[0m     )\n",
      "File \u001b[0;32m/opt/anaconda3/envs/MLenv/lib/python3.9/site-packages/dscribe/descriptors/lmbtr.py:615\u001b[0m, in \u001b[0;36mLMBTR._get_k2\u001b[0;34m(self, system, new_system, indices)\u001b[0m\n\u001b[1;32m    612\u001b[0m                 max_val \u001b[38;5;241m=\u001b[39m \u001b[38;5;241m1\u001b[39m \u001b[38;5;241m/\u001b[39m (sigma \u001b[38;5;241m*\u001b[39m math\u001b[38;5;241m.\u001b[39msqrt(\u001b[38;5;241m2\u001b[39m \u001b[38;5;241m*\u001b[39m math\u001b[38;5;241m.\u001b[39mpi))\n\u001b[1;32m    613\u001b[0m                 gaussian_sum \u001b[38;5;241m/\u001b[39m\u001b[38;5;241m=\u001b[39m max_val\n\u001b[0;32m--> 615\u001b[0m             k2[i_loc, start:end] \u001b[38;5;241m=\u001b[39m gaussian_sum\n\u001b[1;32m    616\u001b[0m     k2 \u001b[38;5;241m=\u001b[39m k2\u001b[38;5;241m.\u001b[39mto_coo()\n\u001b[1;32m    617\u001b[0m \u001b[38;5;28;01melse\u001b[39;00m:\n",
      "File \u001b[0;32m/opt/anaconda3/envs/MLenv/lib/python3.9/site-packages/sparse/_dok.py:381\u001b[0m, in \u001b[0;36mDOK.__setitem__\u001b[0;34m(self, key, value)\u001b[0m\n\u001b[1;32m    377\u001b[0m key \u001b[38;5;241m=\u001b[39m normalize_index(key, \u001b[38;5;28mself\u001b[39m\u001b[38;5;241m.\u001b[39mshape)\n\u001b[1;32m    379\u001b[0m key_list \u001b[38;5;241m=\u001b[39m [\u001b[38;5;28mint\u001b[39m(k) \u001b[38;5;28;01mif\u001b[39;00m \u001b[38;5;28misinstance\u001b[39m(k, Integral) \u001b[38;5;28;01melse\u001b[39;00m k \u001b[38;5;28;01mfor\u001b[39;00m k \u001b[38;5;129;01min\u001b[39;00m key]\n\u001b[0;32m--> 381\u001b[0m \u001b[38;5;28;43mself\u001b[39;49m\u001b[38;5;241;43m.\u001b[39;49m\u001b[43m_setitem\u001b[49m\u001b[43m(\u001b[49m\u001b[43mkey_list\u001b[49m\u001b[43m,\u001b[49m\u001b[43m \u001b[49m\u001b[43mvalue\u001b[49m\u001b[43m)\u001b[49m\n",
      "File \u001b[0;32m/opt/anaconda3/envs/MLenv/lib/python3.9/site-packages/sparse/_dok.py:439\u001b[0m, in \u001b[0;36mDOK._setitem\u001b[0;34m(self, key_list, value)\u001b[0m\n\u001b[1;32m    433\u001b[0m         key_list_temp[i] \u001b[38;5;241m=\u001b[39m ki\n\u001b[1;32m    434\u001b[0m         vi \u001b[38;5;241m=\u001b[39m (\n\u001b[1;32m    435\u001b[0m             value\n\u001b[1;32m    436\u001b[0m             \u001b[38;5;28;01mif\u001b[39;00m value_missing_dims \u001b[38;5;241m>\u001b[39m \u001b[38;5;241m0\u001b[39m\n\u001b[1;32m    437\u001b[0m             \u001b[38;5;28;01melse\u001b[39;00m (value[\u001b[38;5;241m0\u001b[39m] \u001b[38;5;28;01mif\u001b[39;00m value\u001b[38;5;241m.\u001b[39mshape[\u001b[38;5;241m0\u001b[39m] \u001b[38;5;241m==\u001b[39m \u001b[38;5;241m1\u001b[39m \u001b[38;5;28;01melse\u001b[39;00m value[v_idx])\n\u001b[1;32m    438\u001b[0m         )\n\u001b[0;32m--> 439\u001b[0m         \u001b[38;5;28;43mself\u001b[39;49m\u001b[38;5;241;43m.\u001b[39;49m\u001b[43m_setitem\u001b[49m\u001b[43m(\u001b[49m\u001b[43mkey_list_temp\u001b[49m\u001b[43m,\u001b[49m\u001b[43m \u001b[49m\u001b[43mvi\u001b[49m\u001b[43m)\u001b[49m\n\u001b[1;32m    441\u001b[0m     \u001b[38;5;28;01mreturn\u001b[39;00m\n\u001b[1;32m    442\u001b[0m \u001b[38;5;28;01melif\u001b[39;00m \u001b[38;5;129;01mnot\u001b[39;00m \u001b[38;5;28misinstance\u001b[39m(ind, Integral):\n",
      "File \u001b[0;32m/opt/anaconda3/envs/MLenv/lib/python3.9/site-packages/sparse/_dok.py:448\u001b[0m, in \u001b[0;36mDOK._setitem\u001b[0;34m(self, key_list, value)\u001b[0m\n\u001b[1;32m    443\u001b[0m         \u001b[38;5;28;01mraise\u001b[39;00m \u001b[38;5;167;01mIndexError\u001b[39;00m(\n\u001b[1;32m    444\u001b[0m             \u001b[38;5;124m\"\u001b[39m\u001b[38;5;124mAll indices must be slices or integers when setting an item.\u001b[39m\u001b[38;5;124m\"\u001b[39m\n\u001b[1;32m    445\u001b[0m         )\n\u001b[1;32m    447\u001b[0m key \u001b[38;5;241m=\u001b[39m \u001b[38;5;28mtuple\u001b[39m(key_list)\n\u001b[0;32m--> 448\u001b[0m \u001b[38;5;28;01mif\u001b[39;00m \u001b[38;5;129;01mnot\u001b[39;00m \u001b[43mequivalent\u001b[49m\u001b[43m(\u001b[49m\u001b[43mvalue\u001b[49m\u001b[43m,\u001b[49m\u001b[43m \u001b[49m\u001b[38;5;28;43mself\u001b[39;49m\u001b[38;5;241;43m.\u001b[39;49m\u001b[43mfill_value\u001b[49m\u001b[43m)\u001b[49m:\n\u001b[1;32m    449\u001b[0m     \u001b[38;5;28mself\u001b[39m\u001b[38;5;241m.\u001b[39mdata[key] \u001b[38;5;241m=\u001b[39m value[()]\n\u001b[1;32m    450\u001b[0m \u001b[38;5;28;01melif\u001b[39;00m key \u001b[38;5;129;01min\u001b[39;00m \u001b[38;5;28mself\u001b[39m\u001b[38;5;241m.\u001b[39mdata:\n",
      "File \u001b[0;32m/opt/anaconda3/envs/MLenv/lib/python3.9/site-packages/sparse/_utils.py:426\u001b[0m, in \u001b[0;36mequivalent\u001b[0;34m(x, y)\u001b[0m\n\u001b[1;32m    424\u001b[0m y \u001b[38;5;241m=\u001b[39m np\u001b[38;5;241m.\u001b[39masarray(y)\n\u001b[1;32m    425\u001b[0m \u001b[38;5;66;03m# Can't contain NaNs\u001b[39;00m\n\u001b[0;32m--> 426\u001b[0m \u001b[38;5;28;01mif\u001b[39;00m \u001b[38;5;28;43many\u001b[39;49m\u001b[43m(\u001b[49m\u001b[43mnp\u001b[49m\u001b[38;5;241;43m.\u001b[39;49m\u001b[43missubdtype\u001b[49m\u001b[43m(\u001b[49m\u001b[43mx\u001b[49m\u001b[38;5;241;43m.\u001b[39;49m\u001b[43mdtype\u001b[49m\u001b[43m,\u001b[49m\u001b[43m \u001b[49m\u001b[43mt\u001b[49m\u001b[43m)\u001b[49m\u001b[43m \u001b[49m\u001b[38;5;28;43;01mfor\u001b[39;49;00m\u001b[43m \u001b[49m\u001b[43mt\u001b[49m\u001b[43m \u001b[49m\u001b[38;5;129;43;01min\u001b[39;49;00m\u001b[43m \u001b[49m\u001b[43m[\u001b[49m\u001b[43mnp\u001b[49m\u001b[38;5;241;43m.\u001b[39;49m\u001b[43minteger\u001b[49m\u001b[43m,\u001b[49m\u001b[43m \u001b[49m\u001b[43mnp\u001b[49m\u001b[38;5;241;43m.\u001b[39;49m\u001b[43mbool_\u001b[49m\u001b[43m,\u001b[49m\u001b[43m \u001b[49m\u001b[43mnp\u001b[49m\u001b[38;5;241;43m.\u001b[39;49m\u001b[43mcharacter\u001b[49m\u001b[43m]\u001b[49m\u001b[43m)\u001b[49m:\n\u001b[1;32m    427\u001b[0m     \u001b[38;5;28;01mreturn\u001b[39;00m x \u001b[38;5;241m==\u001b[39m y\n\u001b[1;32m    429\u001b[0m \u001b[38;5;66;03m# Can contain NaNs\u001b[39;00m\n\u001b[1;32m    430\u001b[0m \u001b[38;5;66;03m# FIXME: Complex floats and np.void with multiple values can't be compared properly.\u001b[39;00m\n\u001b[1;32m    431\u001b[0m \u001b[38;5;66;03m# lgtm [py/comparison-of-identical-expressions]\u001b[39;00m\n",
      "File \u001b[0;32m/opt/anaconda3/envs/MLenv/lib/python3.9/site-packages/sparse/_utils.py:426\u001b[0m, in \u001b[0;36m<genexpr>\u001b[0;34m(.0)\u001b[0m\n\u001b[1;32m    424\u001b[0m y \u001b[38;5;241m=\u001b[39m np\u001b[38;5;241m.\u001b[39masarray(y)\n\u001b[1;32m    425\u001b[0m \u001b[38;5;66;03m# Can't contain NaNs\u001b[39;00m\n\u001b[0;32m--> 426\u001b[0m \u001b[38;5;28;01mif\u001b[39;00m \u001b[38;5;28many\u001b[39m(\u001b[43mnp\u001b[49m\u001b[38;5;241;43m.\u001b[39;49m\u001b[43missubdtype\u001b[49m\u001b[43m(\u001b[49m\u001b[43mx\u001b[49m\u001b[38;5;241;43m.\u001b[39;49m\u001b[43mdtype\u001b[49m\u001b[43m,\u001b[49m\u001b[43m \u001b[49m\u001b[43mt\u001b[49m\u001b[43m)\u001b[49m \u001b[38;5;28;01mfor\u001b[39;00m t \u001b[38;5;129;01min\u001b[39;00m [np\u001b[38;5;241m.\u001b[39minteger, np\u001b[38;5;241m.\u001b[39mbool_, np\u001b[38;5;241m.\u001b[39mcharacter]):\n\u001b[1;32m    427\u001b[0m     \u001b[38;5;28;01mreturn\u001b[39;00m x \u001b[38;5;241m==\u001b[39m y\n\u001b[1;32m    429\u001b[0m \u001b[38;5;66;03m# Can contain NaNs\u001b[39;00m\n\u001b[1;32m    430\u001b[0m \u001b[38;5;66;03m# FIXME: Complex floats and np.void with multiple values can't be compared properly.\u001b[39;00m\n\u001b[1;32m    431\u001b[0m \u001b[38;5;66;03m# lgtm [py/comparison-of-identical-expressions]\u001b[39;00m\n",
      "File \u001b[0;32m/opt/anaconda3/envs/MLenv/lib/python3.9/site-packages/numpy/core/numerictypes.py:420\u001b[0m, in \u001b[0;36missubdtype\u001b[0;34m(arg1, arg2)\u001b[0m\n\u001b[1;32m    417\u001b[0m \u001b[38;5;28;01mif\u001b[39;00m \u001b[38;5;129;01mnot\u001b[39;00m issubclass_(arg2, generic):\n\u001b[1;32m    418\u001b[0m     arg2 \u001b[38;5;241m=\u001b[39m dtype(arg2)\u001b[38;5;241m.\u001b[39mtype\n\u001b[0;32m--> 420\u001b[0m \u001b[38;5;28;01mreturn\u001b[39;00m \u001b[38;5;28;43missubclass\u001b[39;49m\u001b[43m(\u001b[49m\u001b[43marg1\u001b[49m\u001b[43m,\u001b[49m\u001b[43m \u001b[49m\u001b[43marg2\u001b[49m\u001b[43m)\u001b[49m\n",
      "\u001b[0;31mKeyboardInterrupt\u001b[0m: "
     ]
    }
   ],
   "source": [
    "lmbtr_dscribe = []\n",
    "start = datetime.now()\n",
    "for i,ase_struct in enumerate(ase_structures):\n",
    "    lmbtr_matrix = lmbtr.create(ase_struct)\n",
    "    lmbtr_dscribe.append(lmbtr_matrix)\n",
    "    now = datetime.now()\n",
    "    if int(len(lmbtr_dscribe)) == 20:\n",
    "        print(\"matrices read:\", len(lmbtr_dscribe),\", time:\", (now - start))\n",
    "    if int(len(lmbtr_dscribe))%200 == 0: \n",
    "        print(\"matrices read:\", len(lmbtr_dscribe),\", time:\", (now - start))\n",
    "print('Number of matrices read: ', len(lmbtr_dscribe))\n",
    "print(\"--- %s time taken ---\" % ((datetime.now() - start)))"
   ]
  },
  {
   "cell_type": "code",
   "execution_count": 111,
   "id": "decf103b",
   "metadata": {},
   "outputs": [
    {
     "name": "stdout",
     "output_type": "stream",
     "text": [
      "[[0.         0.         0.         ... 0.00024525 0.00019345 0.00014758]\n",
      " [0.         0.         0.         ... 0.00024525 0.00019345 0.00014758]\n",
      " [0.         0.         0.         ... 0.00024525 0.00019345 0.00014758]\n",
      " ...\n",
      " [0.         0.         0.         ... 0.00168127 0.00142138 0.00118152]\n",
      " [0.         0.         0.         ... 0.00168127 0.00142138 0.00118152]\n",
      " [0.         0.         0.         ... 0.00168127 0.00142138 0.00118152]]\n",
      "(54, 2600)\n"
     ]
    }
   ],
   "source": [
    "print(lmbtr_dscribe[0])\n",
    "print(lmbtr_dscribe[0].shape)\n"
   ]
  },
  {
   "cell_type": "code",
   "execution_count": null,
   "id": "ec66d447",
   "metadata": {},
   "outputs": [],
   "source": []
  },
  {
   "cell_type": "code",
   "execution_count": null,
   "id": "7046dce0",
   "metadata": {},
   "outputs": [],
   "source": []
  },
  {
   "cell_type": "code",
   "execution_count": null,
   "id": "19c6d9d0",
   "metadata": {},
   "outputs": [],
   "source": []
  },
  {
   "cell_type": "markdown",
   "id": "9b34231a",
   "metadata": {},
   "source": [
    "## Ewald Sum"
   ]
  },
  {
   "cell_type": "code",
   "execution_count": 83,
   "id": "8d55d3e5",
   "metadata": {},
   "outputs": [],
   "source": [
    "from dscribe.descriptors import EwaldSumMatrix"
   ]
  },
  {
   "cell_type": "code",
   "execution_count": 84,
   "id": "4913bb54",
   "metadata": {},
   "outputs": [],
   "source": [
    "ewald = EwaldSumMatrix(\n",
    "    n_atoms_max=54,\n",
    ")"
   ]
  },
  {
   "cell_type": "code",
   "execution_count": 85,
   "id": "95e3deb5",
   "metadata": {},
   "outputs": [
    {
     "name": "stdout",
     "output_type": "stream",
     "text": [
      "matrices read: 20 , time: 0:00:00.762346\n",
      "matrices read: 200 , time: 0:00:06.792230\n",
      "matrices read: 400 , time: 0:00:13.579437\n",
      "matrices read: 600 , time: 0:00:20.349381\n",
      "matrices read: 800 , time: 0:00:27.079578\n",
      "matrices read: 1000 , time: 0:00:33.808773\n",
      "matrices read: 1200 , time: 0:00:40.493322\n",
      "matrices read: 1400 , time: 0:00:47.260249\n",
      "matrices read: 1600 , time: 0:00:53.943471\n",
      "matrices read: 1800 , time: 0:01:00.670301\n",
      "matrices read: 2000 , time: 0:01:07.571398\n",
      "matrices read: 2200 , time: 0:01:14.584890\n",
      "matrices read: 2400 , time: 0:01:21.751078\n",
      "matrices read: 2600 , time: 0:01:29.030560\n",
      "matrices read: 2800 , time: 0:01:36.374011\n",
      "matrices read: 3000 , time: 0:01:43.723998\n",
      "matrices read: 3200 , time: 0:01:51.355262\n",
      "matrices read: 3400 , time: 0:01:58.785667\n",
      "matrices read: 3600 , time: 0:02:06.375701\n",
      "matrices read: 3800 , time: 0:02:13.918714\n",
      "matrices read: 4000 , time: 0:02:21.487620\n",
      "Number of matrices read:  4023\n",
      "--- 0:02:22.392510 time taken ---\n"
     ]
    }
   ],
   "source": [
    "ewald_dscribe = []\n",
    "start = datetime.now()\n",
    "for i,ase_struct in enumerate(ase_structures):\n",
    "    ewald_matrix = ewald.create(ase_struct)\n",
    "    ewald_dscribe.append(ewald_matrix)\n",
    "    now = datetime.now()\n",
    "    if int(len(ewald_dscribe)) == 20:\n",
    "        print(\"matrices read:\", len(ewald_dscribe),\", time:\", (now - start))\n",
    "    if int(len(ewald_dscribe))%200 == 0: \n",
    "        print(\"matrices read:\", len(ewald_dscribe),\", time:\", (now - start))\n",
    "print('Number of matrices read: ', len(ewald_dscribe))\n",
    "print(\"--- %s time taken ---\" % ((datetime.now() - start)))"
   ]
  },
  {
   "cell_type": "code",
   "execution_count": 88,
   "id": "91f99b9f",
   "metadata": {},
   "outputs": [
    {
     "name": "stdout",
     "output_type": "stream",
     "text": [
      "[-72.72593755   4.34200165   4.34200165 ...  -0.4560209    0.0807397\n",
      "  -1.35234181]\n",
      "(2916,)\n"
     ]
    }
   ],
   "source": [
    "#one of the ewald sum matrix descriptor\n",
    "print(ewald_dscribe[0])\n",
    "print(ewald_dscribe[0].shape)"
   ]
  },
  {
   "cell_type": "code",
   "execution_count": null,
   "id": "6e49b9cc",
   "metadata": {},
   "outputs": [],
   "source": []
  },
  {
   "cell_type": "code",
   "execution_count": null,
   "id": "470ca524",
   "metadata": {},
   "outputs": [],
   "source": []
  },
  {
   "cell_type": "markdown",
   "id": "9aa7a7af",
   "metadata": {},
   "source": [
    "## Sine Matrix"
   ]
  },
  {
   "cell_type": "code",
   "execution_count": 90,
   "id": "52654e2f",
   "metadata": {},
   "outputs": [],
   "source": [
    "from dscribe.descriptors import SineMatrix\n",
    "\n",
    "# Setting up the sine matrix descriptor\n",
    "sine = SineMatrix(\n",
    "    n_atoms_max=54,\n",
    "    permutation=\"eigenspectrum\",\n",
    "    sparse=False,\n",
    "    #flatten=True\n",
    ")"
   ]
  },
  {
   "cell_type": "code",
   "execution_count": 91,
   "id": "56500afa",
   "metadata": {},
   "outputs": [
    {
     "name": "stdout",
     "output_type": "stream",
     "text": [
      "matrices read: 20 , time: 0:00:00.161407\n",
      "matrices read: 200 , time: 0:00:00.741142\n",
      "matrices read: 400 , time: 0:00:01.365780\n",
      "matrices read: 600 , time: 0:00:02.063516\n",
      "matrices read: 800 , time: 0:00:02.767657\n",
      "matrices read: 1000 , time: 0:00:03.519281\n",
      "matrices read: 1200 , time: 0:00:04.199126\n",
      "matrices read: 1400 , time: 0:00:04.833629\n",
      "matrices read: 1600 , time: 0:00:05.478799\n",
      "matrices read: 1800 , time: 0:00:06.381453\n",
      "matrices read: 2000 , time: 0:00:07.140995\n",
      "matrices read: 2200 , time: 0:00:07.781644\n",
      "matrices read: 2400 , time: 0:00:08.407009\n",
      "matrices read: 2600 , time: 0:00:09.034300\n",
      "matrices read: 2800 , time: 0:00:09.655773\n",
      "matrices read: 3000 , time: 0:00:10.288895\n",
      "matrices read: 3200 , time: 0:00:10.906562\n",
      "matrices read: 3400 , time: 0:00:11.529085\n",
      "matrices read: 3600 , time: 0:00:12.149465\n",
      "matrices read: 3800 , time: 0:00:12.763192\n",
      "matrices read: 4000 , time: 0:00:13.379418\n",
      "Number of matrices read:  4023\n",
      "--- 0:00:13.449720 time taken ---\n"
     ]
    }
   ],
   "source": [
    "sine_dscribe = []\n",
    "start = datetime.now()\n",
    "for i,ase_struct in enumerate(ase_structures):\n",
    "    sine_matrix = sine.create(ase_struct)\n",
    "    sine_dscribe.append(sine_matrix)\n",
    "    now = datetime.now()\n",
    "    if int(len(sine_dscribe)) == 20:\n",
    "        print(\"matrices read:\", len(sine_dscribe),\", time:\", (now - start))\n",
    "    if int(len(sine_dscribe))%200 == 0: \n",
    "        print(\"matrices read:\", len(sine_dscribe),\", time:\", (now - start))\n",
    "print('Number of matrices read: ', len(sine_dscribe))\n",
    "print(\"--- %s time taken ---\" % ((datetime.now() - start)))"
   ]
  },
  {
   "cell_type": "code",
   "execution_count": 92,
   "id": "c5a65bb9",
   "metadata": {},
   "outputs": [
    {
     "name": "stdout",
     "output_type": "stream",
     "text": [
      "[1582.07639598+0.00000000e+00j  844.56081641+0.00000000e+00j\n",
      "  844.56081641+0.00000000e+00j  844.56081641+0.00000000e+00j\n",
      "  844.56081641+0.00000000e+00j  750.30393113+0.00000000e+00j\n",
      "  750.30393113+0.00000000e+00j  750.30393113+0.00000000e+00j\n",
      "  750.30393113+0.00000000e+00j  580.5272067 +0.00000000e+00j\n",
      "  432.2363368 +0.00000000e+00j  414.97922122+0.00000000e+00j\n",
      "  414.97922122+0.00000000e+00j  414.97922122+0.00000000e+00j\n",
      "  414.97922122+0.00000000e+00j  390.1105857 +0.00000000e+00j\n",
      "  359.1595625 +0.00000000e+00j  359.1595625 +0.00000000e+00j\n",
      "  359.1595625 +0.00000000e+00j  359.1595625 +0.00000000e+00j\n",
      "  357.46335109+0.00000000e+00j  357.46335109+0.00000000e+00j\n",
      "  357.46335109+0.00000000e+00j  357.46335109+0.00000000e+00j\n",
      "  355.52120908+0.00000000e+00j  355.52120908+0.00000000e+00j\n",
      "  355.52120908+0.00000000e+00j  355.52120908+0.00000000e+00j\n",
      "  335.00356185+0.00000000e+00j  335.00356185+0.00000000e+00j\n",
      "  335.00356185+0.00000000e+00j  335.00356185+0.00000000e+00j\n",
      "  334.52507445+0.00000000e+00j  334.52507445+0.00000000e+00j\n",
      "  334.52507445+0.00000000e+00j  334.52507445+0.00000000e+00j\n",
      "    9.1650691 +0.00000000e+00j    7.54332549+0.00000000e+00j\n",
      "    6.94058292+1.05465344e-14j    6.94058292-1.05465344e-14j\n",
      "    6.94058292+0.00000000e+00j    6.94058292+0.00000000e+00j\n",
      "    5.86047725+0.00000000e+00j    5.86047725+0.00000000e+00j\n",
      "    5.86047725+0.00000000e+00j    5.86047725+0.00000000e+00j\n",
      "    5.59893937+0.00000000e+00j    5.59893937+0.00000000e+00j\n",
      "    5.59893937+0.00000000e+00j    5.59893937+0.00000000e+00j\n",
      "    5.1034959 +0.00000000e+00j    5.1034959 +0.00000000e+00j\n",
      "    5.1034959 +0.00000000e+00j    5.1034959 +0.00000000e+00j]\n",
      "(54,)\n"
     ]
    }
   ],
   "source": [
    "#1 example descriptor, only eigenvalue\n",
    "print(sine_dscribe[0])\n",
    "print(sine_dscribe[0].shape)"
   ]
  },
  {
   "cell_type": "code",
   "execution_count": 93,
   "id": "b1daf910",
   "metadata": {},
   "outputs": [
    {
     "name": "stdout",
     "output_type": "stream",
     "text": [
      "[[8.33267490e+02 5.98196934e+01 3.45369161e+01 ... 3.33017558e+00\n",
      "  4.70957947e+00 3.33017558e+00]\n",
      " [5.98196934e+01 8.33267490e+02 3.45369161e+01 ... 3.33017558e+00\n",
      "  4.70957947e+00 4.70957947e+00]\n",
      " [3.45369161e+01 3.45369161e+01 8.33267490e+02 ... 4.70957947e+00\n",
      "  4.70957947e+00 3.33017558e+00]\n",
      " ...\n",
      " [3.33017558e+00 3.33017558e+00 4.70957947e+00 ... 6.98330508e+00\n",
      "  1.11234967e+00 1.11234967e+00]\n",
      " [4.70957947e+00 4.70957947e+00 4.70957947e+00 ... 1.11234967e+00\n",
      "  6.98330508e+00 6.42215382e-01]\n",
      " [3.33017558e+00 4.70957947e+00 3.33017558e+00 ... 1.11234967e+00\n",
      "  6.42215382e-01 6.98330508e+00]]\n",
      "(54, 54)\n"
     ]
    }
   ],
   "source": [
    "#descriptor of a full matrix in order defined by the atoms\n",
    "sine = SineMatrix(\n",
    "    n_atoms_max=54,\n",
    "    #permutation=\"eigenspectrum\",\n",
    "    sparse=False,\n",
    "    flatten=False\n",
    ")\n",
    "full = sine.create(ase_structures[0])\n",
    "print(full)\n",
    "print(full.shape)"
   ]
  },
  {
   "cell_type": "code",
   "execution_count": null,
   "id": "8a9a0352",
   "metadata": {},
   "outputs": [],
   "source": []
  },
  {
   "cell_type": "code",
   "execution_count": null,
   "id": "277abb40",
   "metadata": {},
   "outputs": [],
   "source": []
  },
  {
   "cell_type": "code",
   "execution_count": null,
   "id": "25bced1b",
   "metadata": {},
   "outputs": [],
   "source": []
  },
  {
   "cell_type": "code",
   "execution_count": null,
   "id": "be678c1e",
   "metadata": {},
   "outputs": [],
   "source": []
  },
  {
   "cell_type": "code",
   "execution_count": null,
   "id": "413e8d10",
   "metadata": {},
   "outputs": [],
   "source": []
  },
  {
   "cell_type": "code",
   "execution_count": null,
   "id": "bbc20205",
   "metadata": {},
   "outputs": [],
   "source": []
  },
  {
   "cell_type": "markdown",
   "id": "149beac3",
   "metadata": {},
   "source": [
    "## Coulomb Matrix from Matminer"
   ]
  },
  {
   "cell_type": "code",
   "execution_count": 52,
   "id": "eea86e04",
   "metadata": {},
   "outputs": [
    {
     "data": {
      "text/html": [
       "<style>#sk-container-id-1 {color: black;background-color: white;}#sk-container-id-1 pre{padding: 0;}#sk-container-id-1 div.sk-toggleable {background-color: white;}#sk-container-id-1 label.sk-toggleable__label {cursor: pointer;display: block;width: 100%;margin-bottom: 0;padding: 0.3em;box-sizing: border-box;text-align: center;}#sk-container-id-1 label.sk-toggleable__label-arrow:before {content: \"▸\";float: left;margin-right: 0.25em;color: #696969;}#sk-container-id-1 label.sk-toggleable__label-arrow:hover:before {color: black;}#sk-container-id-1 div.sk-estimator:hover label.sk-toggleable__label-arrow:before {color: black;}#sk-container-id-1 div.sk-toggleable__content {max-height: 0;max-width: 0;overflow: hidden;text-align: left;background-color: #f0f8ff;}#sk-container-id-1 div.sk-toggleable__content pre {margin: 0.2em;color: black;border-radius: 0.25em;background-color: #f0f8ff;}#sk-container-id-1 input.sk-toggleable__control:checked~div.sk-toggleable__content {max-height: 200px;max-width: 100%;overflow: auto;}#sk-container-id-1 input.sk-toggleable__control:checked~label.sk-toggleable__label-arrow:before {content: \"▾\";}#sk-container-id-1 div.sk-estimator input.sk-toggleable__control:checked~label.sk-toggleable__label {background-color: #d4ebff;}#sk-container-id-1 div.sk-label input.sk-toggleable__control:checked~label.sk-toggleable__label {background-color: #d4ebff;}#sk-container-id-1 input.sk-hidden--visually {border: 0;clip: rect(1px 1px 1px 1px);clip: rect(1px, 1px, 1px, 1px);height: 1px;margin: -1px;overflow: hidden;padding: 0;position: absolute;width: 1px;}#sk-container-id-1 div.sk-estimator {font-family: monospace;background-color: #f0f8ff;border: 1px dotted black;border-radius: 0.25em;box-sizing: border-box;margin-bottom: 0.5em;}#sk-container-id-1 div.sk-estimator:hover {background-color: #d4ebff;}#sk-container-id-1 div.sk-parallel-item::after {content: \"\";width: 100%;border-bottom: 1px solid gray;flex-grow: 1;}#sk-container-id-1 div.sk-label:hover label.sk-toggleable__label {background-color: #d4ebff;}#sk-container-id-1 div.sk-serial::before {content: \"\";position: absolute;border-left: 1px solid gray;box-sizing: border-box;top: 0;bottom: 0;left: 50%;z-index: 0;}#sk-container-id-1 div.sk-serial {display: flex;flex-direction: column;align-items: center;background-color: white;padding-right: 0.2em;padding-left: 0.2em;position: relative;}#sk-container-id-1 div.sk-item {position: relative;z-index: 1;}#sk-container-id-1 div.sk-parallel {display: flex;align-items: stretch;justify-content: center;background-color: white;position: relative;}#sk-container-id-1 div.sk-item::before, #sk-container-id-1 div.sk-parallel-item::before {content: \"\";position: absolute;border-left: 1px solid gray;box-sizing: border-box;top: 0;bottom: 0;left: 50%;z-index: -1;}#sk-container-id-1 div.sk-parallel-item {display: flex;flex-direction: column;z-index: 1;position: relative;background-color: white;}#sk-container-id-1 div.sk-parallel-item:first-child::after {align-self: flex-end;width: 50%;}#sk-container-id-1 div.sk-parallel-item:last-child::after {align-self: flex-start;width: 50%;}#sk-container-id-1 div.sk-parallel-item:only-child::after {width: 0;}#sk-container-id-1 div.sk-dashed-wrapped {border: 1px dashed gray;margin: 0 0.4em 0.5em 0.4em;box-sizing: border-box;padding-bottom: 0.4em;background-color: white;}#sk-container-id-1 div.sk-label label {font-family: monospace;font-weight: bold;display: inline-block;line-height: 1.2em;}#sk-container-id-1 div.sk-label-container {text-align: center;}#sk-container-id-1 div.sk-container {/* jupyter's `normalize.less` sets `[hidden] { display: none; }` but bootstrap.min.css set `[hidden] { display: none !important; }` so we also need the `!important` here to be able to override the default hidden behavior on the sphinx rendered scikit-learn.org. See: https://github.com/scikit-learn/scikit-learn/issues/21755 */display: inline-block !important;position: relative;}#sk-container-id-1 div.sk-text-repr-fallback {display: none;}</style><div id=\"sk-container-id-1\" class=\"sk-top-container\"><div class=\"sk-text-repr-fallback\"><pre>CoulombMatrix()</pre><b>In a Jupyter environment, please rerun this cell to show the HTML representation or trust the notebook. <br />On GitHub, the HTML representation is unable to render, please try loading this page with nbviewer.org.</b></div><div class=\"sk-container\" hidden><div class=\"sk-item\"><div class=\"sk-estimator sk-toggleable\"><input class=\"sk-toggleable__control sk-hidden--visually\" id=\"sk-estimator-id-1\" type=\"checkbox\" checked><label for=\"sk-estimator-id-1\" class=\"sk-toggleable__label sk-toggleable__label-arrow\">CoulombMatrix</label><div class=\"sk-toggleable__content\"><pre>CoulombMatrix()</pre></div></div></div></div></div>"
      ],
      "text/plain": [
       "CoulombMatrix()"
      ]
     },
     "execution_count": 52,
     "metadata": {},
     "output_type": "execute_result"
    }
   ],
   "source": [
    "cm_mm.fit(structures)\n"
   ]
  },
  {
   "cell_type": "code",
   "execution_count": 54,
   "id": "fa18f23f",
   "metadata": {},
   "outputs": [
    {
     "name": "stderr",
     "output_type": "stream",
     "text": [
      "/opt/anaconda3/envs/MLenv/lib/python3.9/site-packages/matminer/featurizers/structure/matrix.py:100: ComplexWarning: Casting complex values to real discards the imaginary part\n",
      "  zeros[: len(eigs)] = eigs\n"
     ]
    },
    {
     "name": "stdout",
     "output_type": "stream",
     "text": [
      "matrices read: 200 , time: 0:00:17.899286\n",
      "matrices read: 400 , time: 0:00:35.710224\n",
      "matrices read: 600 , time: 0:00:53.512635\n",
      "matrices read: 800 , time: 0:01:11.467170\n",
      "matrices read: 1000 , time: 0:01:29.488261\n",
      "matrices read: 1200 , time: 0:01:47.401966\n",
      "matrices read: 1400 , time: 0:02:05.454721\n",
      "matrices read: 1600 , time: 0:02:23.581921\n",
      "matrices read: 1800 , time: 0:02:41.435521\n",
      "matrices read: 2000 , time: 0:02:59.449398\n",
      "matrices read: 2200 , time: 0:03:17.432026\n",
      "matrices read: 2400 , time: 0:03:35.661356\n",
      "matrices read: 2600 , time: 0:03:53.853999\n",
      "matrices read: 2800 , time: 0:04:11.956088\n",
      "matrices read: 3000 , time: 0:04:30.254314\n",
      "matrices read: 3200 , time: 0:04:48.307846\n",
      "matrices read: 3400 , time: 0:05:07.172887\n",
      "matrices read: 3600 , time: 0:05:25.598728\n",
      "matrices read: 3800 , time: 0:05:43.825729\n"
     ]
    },
    {
     "ename": "KeyboardInterrupt",
     "evalue": "",
     "output_type": "error",
     "traceback": [
      "\u001b[0;31m---------------------------------------------------------------------------\u001b[0m",
      "\u001b[0;31mKeyboardInterrupt\u001b[0m                         Traceback (most recent call last)",
      "Cell \u001b[0;32mIn[54], line 12\u001b[0m\n\u001b[1;32m      9\u001b[0m matminer_matrix \u001b[38;5;241m=\u001b[39m cm_mm\u001b[38;5;241m.\u001b[39mfit(structures)\n\u001b[1;32m     10\u001b[0m \u001b[38;5;28;01mfor\u001b[39;00m i,struct \u001b[38;5;129;01min\u001b[39;00m \u001b[38;5;28menumerate\u001b[39m(structures):\n\u001b[0;32m---> 12\u001b[0m     featurized_structure \u001b[38;5;241m=\u001b[39m \u001b[43mmatminer_matrix\u001b[49m\u001b[38;5;241;43m.\u001b[39;49m\u001b[43mfeaturize\u001b[49m\u001b[43m(\u001b[49m\u001b[43mstruct\u001b[49m\u001b[43m)\u001b[49m\n\u001b[1;32m     13\u001b[0m     cm_matminer\u001b[38;5;241m.\u001b[39mappend(featurized_structure)\n\u001b[1;32m     14\u001b[0m     now \u001b[38;5;241m=\u001b[39m datetime\u001b[38;5;241m.\u001b[39mnow()\n",
      "File \u001b[0;32m/opt/anaconda3/envs/MLenv/lib/python3.9/site-packages/matminer/featurizers/structure/matrix.py:93\u001b[0m, in \u001b[0;36mCoulombMatrix.featurize\u001b[0;34m(self, s)\u001b[0m\n\u001b[1;32m     91\u001b[0m                 m[i, j] \u001b[38;5;241m=\u001b[39m \u001b[38;5;241m0\u001b[39m\n\u001b[1;32m     92\u001b[0m         \u001b[38;5;28;01melse\u001b[39;00m:\n\u001b[0;32m---> 93\u001b[0m             d \u001b[38;5;241m=\u001b[39m \u001b[43ms\u001b[49m\u001b[38;5;241;43m.\u001b[39;49m\u001b[43mget_distance\u001b[49m\u001b[43m(\u001b[49m\u001b[43mi\u001b[49m\u001b[43m,\u001b[49m\u001b[43m \u001b[49m\u001b[43mj\u001b[49m\u001b[43m)\u001b[49m \u001b[38;5;241m*\u001b[39m ANG_TO_BOHR\n\u001b[1;32m     94\u001b[0m             m[i, j] \u001b[38;5;241m=\u001b[39m atomic_numbers[i] \u001b[38;5;241m*\u001b[39m atomic_numbers[j] \u001b[38;5;241m/\u001b[39m d\n\u001b[1;32m     95\u001b[0m cm \u001b[38;5;241m=\u001b[39m np\u001b[38;5;241m.\u001b[39marray(m)\n",
      "File \u001b[0;32m/opt/anaconda3/envs/MLenv/lib/python3.9/site-packages/pymatgen/core/structure.py:1206\u001b[0m, in \u001b[0;36mIStructure.get_distance\u001b[0;34m(self, i, j, jimage)\u001b[0m\n\u001b[1;32m   1188\u001b[0m \u001b[38;5;28;01mdef\u001b[39;00m \u001b[38;5;21mget_distance\u001b[39m(\u001b[38;5;28mself\u001b[39m, i: \u001b[38;5;28mint\u001b[39m, j: \u001b[38;5;28mint\u001b[39m, jimage\u001b[38;5;241m=\u001b[39m\u001b[38;5;28;01mNone\u001b[39;00m) \u001b[38;5;241m-\u001b[39m\u001b[38;5;241m>\u001b[39m \u001b[38;5;28mfloat\u001b[39m:\n\u001b[1;32m   1189\u001b[0m     \u001b[38;5;124;03m\"\"\"\u001b[39;00m\n\u001b[1;32m   1190\u001b[0m \u001b[38;5;124;03m    Get distance between site i and j assuming periodic boundary\u001b[39;00m\n\u001b[1;32m   1191\u001b[0m \u001b[38;5;124;03m    conditions. If the index jimage of two sites atom j is not specified it\u001b[39;00m\n\u001b[0;32m   (...)\u001b[0m\n\u001b[1;32m   1204\u001b[0m \u001b[38;5;124;03m        distance\u001b[39;00m\n\u001b[1;32m   1205\u001b[0m \u001b[38;5;124;03m    \"\"\"\u001b[39;00m\n\u001b[0;32m-> 1206\u001b[0m     \u001b[38;5;28;01mreturn\u001b[39;00m \u001b[38;5;28;43mself\u001b[39;49m\u001b[43m[\u001b[49m\u001b[43mi\u001b[49m\u001b[43m]\u001b[49m\u001b[38;5;241m.\u001b[39mdistance(\u001b[38;5;28mself\u001b[39m[j], jimage)\n",
      "File \u001b[0;32m/opt/anaconda3/envs/MLenv/lib/python3.9/site-packages/pymatgen/core/structure.py:333\u001b[0m, in \u001b[0;36mSiteCollection.__getitem__\u001b[0;34m(self, ind)\u001b[0m\n\u001b[1;32m    332\u001b[0m \u001b[38;5;28;01mdef\u001b[39;00m \u001b[38;5;21m__getitem__\u001b[39m(\u001b[38;5;28mself\u001b[39m, ind):\n\u001b[0;32m--> 333\u001b[0m     \u001b[38;5;28;01mreturn\u001b[39;00m \u001b[38;5;28;43mself\u001b[39;49m\u001b[38;5;241;43m.\u001b[39;49m\u001b[43msites\u001b[49m[ind]\n",
      "\u001b[0;31mKeyboardInterrupt\u001b[0m: "
     ]
    }
   ],
   "source": [
    "#CM using Matminer, this uses Pymatgen structures\n",
    "\n",
    "#matminer descriptors\n",
    "from matminer.featurizers import structure as sf\n",
    "\n",
    "cm_matminer=[]\n",
    "cm_mm = sf.CoulombMatrix(flatten=True)\n",
    "start = datetime.now()\n",
    "matminer_matrix = cm_mm.fit(structures)\n",
    "for i,struct in enumerate(structures):\n",
    "    \n",
    "    featurized_structure = matminer_matrix.featurize(struct)\n",
    "    cm_matminer.append(featurized_structure)\n",
    "    now = datetime.now()\n",
    "    if len(cm_matminer)%200 == 0: \n",
    "        print(\"matrices read:\", len(cm_matminer),\", time:\", (now - start))\n",
    "    \n",
    "print('Number of matrices read: ', len(cm_matminer))\n",
    "print(\"--- %s time taken ---\" % ((datetime.now() - start)))"
   ]
  },
  {
   "cell_type": "code",
   "execution_count": 80,
   "id": "fff156de",
   "metadata": {},
   "outputs": [],
   "source": [
    "cm_mm = sf.CoulombMatrix(flatten=True)\n",
    "matminer_matrix = cm_mm.fit(structures)\n",
    "cm_matminer_1 = matminer_matrix.featurize(structures[0])\n"
   ]
  },
  {
   "cell_type": "code",
   "execution_count": 81,
   "id": "cf3175ac",
   "metadata": {},
   "outputs": [
    {
     "name": "stdout",
     "output_type": "stream",
     "text": [
      "[1971.17128361  594.85348769  812.40237535  812.40237535  400.29414904\n",
      "  702.13917465  702.13917465  366.01493461  812.40237535  812.40237535\n",
      "  389.74361918  389.74361918    9.62967336  812.40237535  812.40237535\n",
      "  371.27587096  371.27587096  389.74361918  389.74361918  318.20798292\n",
      "  389.74361918  371.27587096  318.20798292  318.5145681   318.5145681\n",
      "  318.5145681   389.74361918  371.27587096  371.27587096  371.27587096\n",
      "  318.5145681   318.40672195    6.46328633    4.53258333    4.53258333\n",
      "    4.53258333    4.53258333    5.11735365    5.11735365    5.11735365\n",
      "    5.11735365    5.11735365    5.11735365    6.45907173    6.45907173\n",
      "    6.45907173    6.45907173    6.45907173    6.45907173  318.40672195\n",
      "  318.40672195  318.40672195  318.40672195  318.40672195]\n",
      "(54,)\n"
     ]
    }
   ],
   "source": [
    "print(cm_matminer_1)\n",
    "print(cm_matminer_1.shape)"
   ]
  },
  {
   "cell_type": "code",
   "execution_count": 88,
   "id": "3c870396",
   "metadata": {},
   "outputs": [
    {
     "name": "stdout",
     "output_type": "stream",
     "text": [
      "[2679.77619447 1133.67577892  913.07374493  841.08011951  712.6289803\n",
      "  708.830714    692.25295309  656.98047438  655.93789699  611.12050477\n",
      "  467.43255314  434.36093126  405.95650918  373.37691024  360.90885612\n",
      "  360.73370676  330.59963438  323.17143181  321.91922861  319.70671666\n",
      "  317.12026943  310.00661992  304.11487923  301.61723033  299.21583906\n",
      "  298.12478161  296.60093965  292.83209275  292.52858515  292.14396424\n",
      "  291.40954568  283.9316412   283.8511157   283.12161825  282.57751345\n",
      "  280.79923438   12.8666636     7.39275912    7.03464999    5.57408163\n",
      "    5.28041001    4.54978872    4.52989384    4.34655433    4.22686951\n",
      "    4.14798147    3.80471049    3.74741204    3.72709043    3.52626779\n",
      "    3.47022584    3.37089434    3.33626234    3.28758742]\n",
      "(54,)\n"
     ]
    }
   ],
   "source": [
    "cm_ds = CoulombMatrix(n_atoms_max=54,permutation='eigenspectrum')\n",
    "cm_1 = cm_ds.create(ase_structures[0])\n",
    "print(cm_1)\n",
    "print(cm_1.shape)"
   ]
  },
  {
   "cell_type": "markdown",
   "id": "38151a2e",
   "metadata": {},
   "source": [
    "# <a id='ml'>Machine learning</a>"
   ]
  },
  {
   "cell_type": "markdown",
   "id": "ff724512",
   "metadata": {},
   "source": [
    "## Data normalisation"
   ]
  },
  {
   "cell_type": "markdown",
   "id": "9cc0ed42",
   "metadata": {},
   "source": [
    "### MinMaxScaler"
   ]
  },
  {
   "cell_type": "code",
   "execution_count": 15,
   "id": "1050d35d",
   "metadata": {},
   "outputs": [],
   "source": [
    "from sklearn.preprocessing import StandardScaler , MinMaxScaler\n",
    "from sklearn.model_selection import train_test_split\n",
    "\n",
    "\n",
    "#X_train, X_test, y_train, y_test = train_test_split(descriptor, energies, random_state=1, test_size = 0.5)\n",
    "X_train = np.array([np.arange(10)]*2)\n",
    "scaler = MinMaxScaler()  \n",
    "#scaler.fit(X_train)  \n",
    "#X_train = scaler.transform(X_train)  \n",
    "#X_test = scaler.transform(X_test) "
   ]
  },
  {
   "cell_type": "code",
   "execution_count": 70,
   "id": "14ee0d34",
   "metadata": {},
   "outputs": [
    {
     "name": "stdout",
     "output_type": "stream",
     "text": [
      "[[0. 0. 0. 0. 0. 0. 0. 0. 0. 0.]\n",
      " [0. 0. 0. 0. 0. 0. 0. 0. 0. 0.]]\n"
     ]
    }
   ],
   "source": [
    "print(X_train)"
   ]
  },
  {
   "cell_type": "markdown",
   "id": "90bc3f9c",
   "metadata": {},
   "source": [
    "### StandardScaler"
   ]
  },
  {
   "cell_type": "code",
   "execution_count": 69,
   "id": "43b04743",
   "metadata": {},
   "outputs": [],
   "source": [
    "from sklearn.preprocessing import StandardScaler , MinMaxScaler \n",
    "\n",
    "#X_train, X_test, y_train, y_test = train_test_split(descriptor, energies, random_state=1, test_size = 0.5)\n",
    "\n",
    "scaler = StandardScaler()  \n",
    "scaler.fit(X_train)  \n",
    "X_train = scaler.transform(X_train)  \n",
    "#X_test = scaler.transform(X_test)  "
   ]
  },
  {
   "cell_type": "code",
   "execution_count": null,
   "id": "7885d0d0",
   "metadata": {},
   "outputs": [],
   "source": []
  },
  {
   "cell_type": "markdown",
   "id": "0fcfcc9c",
   "metadata": {},
   "source": [
    "### Error analysis"
   ]
  },
  {
   "cell_type": "code",
   "execution_count": 46,
   "id": "4c4e446a",
   "metadata": {},
   "outputs": [],
   "source": [
    "def r2(real,pred):\n",
    "    r2 = r2_score(real, pred)\n",
    "    return(r2)\n",
    "\n",
    "def mae(real,pred):\n",
    "    mae = mean_absolute_error(real, pred)*1000\n",
    "    return(mae)\n",
    "\n",
    "#maximum error\n",
    "def maxer(real,pred):\n",
    "    maxer = max_error(real, pred)*1000\n",
    "    return(maxer)\n",
    "\n",
    "def errorgraph(real,pred):\n",
    "    mae(real, pred)\n",
    "    r2(real, pred)\n",
    "    maxer(real,pred)\n",
    "    \n",
    "    plt.figure()\n",
    "    plt.plot(real, pred, marker='o')\n",
    "    plt.ylabel(\"Predicted values\")\n",
    "    plt.xlabel(\"Calculated values\")\n",
    "    \n",
    "    vmin=min(min(real),min(pred))\n",
    "    vmax=max(max(real),max(pred))\n",
    "    line=np.linspace(vmin,vmax)\n",
    "    plt.plot(line,line)\n",
    "    \n",
    "    \n",
    "    plt.text(xtags,ytags[0], 'mean absolute error: %s meV' %mae)\n",
    "    plt.text(xtags,ytags[2], '$R^2$ values:', r2)\n",
    "    plt.text(xtags,ytags[3], 'max error: %s meV' %maxer)\n",
    "    \n",
    "    plt.show()\n",
    "    plt.close()"
   ]
  },
  {
   "cell_type": "markdown",
   "id": "2ebb3dd9",
   "metadata": {},
   "source": [
    "### Linear Regression"
   ]
  },
  {
   "cell_type": "code",
   "execution_count": null,
   "id": "17df9273",
   "metadata": {},
   "outputs": [],
   "source": [
    "#linear regression\n",
    "from sklearn.linear_model import LinearRegression\n",
    "model = LinearRegression()\n",
    "\n",
    "model.fit(Xtrain, ytrain)\n",
    "ypred_LR = model.predict(Xtest)\n",
    "\n",
    "errorgraph(ytest, ypred_LR)"
   ]
  },
  {
   "cell_type": "code",
   "execution_count": null,
   "id": "9fd9c96b",
   "metadata": {},
   "outputs": [],
   "source": []
  },
  {
   "cell_type": "markdown",
   "id": "4671ba93",
   "metadata": {},
   "source": [
    "### Gradient Boosting Decision Tree"
   ]
  },
  {
   "cell_type": "code",
   "execution_count": 72,
   "id": "301b52e9",
   "metadata": {},
   "outputs": [],
   "source": [
    "#setting the parameters for GBDT \n",
    "from sklearn.ensemble import GradientBoostingRegressor\n",
    "\n",
    "params = {\n",
    "          'n_estimators': 1000, #number of boosting stages to perform, the larger the better\n",
    "#          'max_depth': 4,  #limitation for the number of nodes in each tree\n",
    "#          'min_samples_split': 5, #the minimum number of samples required to split a node\n",
    "#          'learning_rate': 0.01,\n",
    "          'loss': 'absolute_error'} #loss function that is optimised\n",
    "model = GradientBoostingRegressor(**params)"
   ]
  },
  {
   "cell_type": "code",
   "execution_count": null,
   "id": "ad58f7cd",
   "metadata": {},
   "outputs": [],
   "source": [
    "model.fit(Xtrain, ytrain)\n",
    "ypred_GBDT = model.predict(Xtest)\n",
    "\n",
    "plt.figure(figsize = (6, 4))\n",
    "plt.scatter(ytest, ypred_GBDT)\n",
    "\n",
    "errorgraph(ytest, ypred_GBDT)"
   ]
  },
  {
   "cell_type": "code",
   "execution_count": null,
   "id": "4283796b",
   "metadata": {},
   "outputs": [],
   "source": []
  },
  {
   "cell_type": "markdown",
   "id": "28bcbd24",
   "metadata": {},
   "source": [
    "# <a id='protocol'>Protocol</a>"
   ]
  },
  {
   "cell_type": "markdown",
   "id": "2aa709ac",
   "metadata": {},
   "source": [
    "# <a id='symmetry'>Symmetry analysis</a>\n",
    "\n",
    "Selected structures:\n",
    "- 8 - 4008\n",
    "- 6 - 0\n",
    "- 4 - 25\n",
    "- 3 - 3291\n",
    "- 2 - 2278\n",
    "- 1 - 1829"
   ]
  },
  {
   "cell_type": "code",
   "execution_count": 17,
   "id": "789ff74c",
   "metadata": {},
   "outputs": [],
   "source": [
    "selected_structures = [4008, 0, 25, 3291, 2278, 1829]\n"
   ]
  }
 ],
 "metadata": {
  "kernelspec": {
   "display_name": "Python 3 (ipykernel)",
   "language": "python",
   "name": "python3"
  },
  "language_info": {
   "codemirror_mode": {
    "name": "ipython",
    "version": 3
   },
   "file_extension": ".py",
   "mimetype": "text/x-python",
   "name": "python",
   "nbconvert_exporter": "python",
   "pygments_lexer": "ipython3",
   "version": "3.9.16"
  }
 },
 "nbformat": 4,
 "nbformat_minor": 5
}
